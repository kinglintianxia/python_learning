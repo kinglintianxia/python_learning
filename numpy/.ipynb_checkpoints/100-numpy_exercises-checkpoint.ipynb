{
 "cells": [
  {
   "cell_type": "code",
   "execution_count": 1,
   "metadata": {},
   "outputs": [],
   "source": [
    "# 1. import numpy\n",
    "import numpy as np"
   ]
  },
  {
   "cell_type": "code",
   "execution_count": 2,
   "metadata": {
    "scrolled": true
   },
   "outputs": [
    {
     "name": "stdout",
     "output_type": "stream",
     "text": [
      "1.17.0\n",
      "blas_opt_info:\n",
      "    library_dirs = ['/usr/local/lib']\n",
      "    define_macros = [('HAVE_CBLAS', None)]\n",
      "    libraries = ['openblas', 'openblas']\n",
      "    language = c\n",
      "lapack_mkl_info:\n",
      "  NOT AVAILABLE\n",
      "lapack_opt_info:\n",
      "    library_dirs = ['/usr/local/lib']\n",
      "    define_macros = [('HAVE_CBLAS', None)]\n",
      "    libraries = ['openblas', 'openblas']\n",
      "    language = c\n",
      "openblas_info:\n",
      "    library_dirs = ['/usr/local/lib']\n",
      "    define_macros = [('HAVE_CBLAS', None)]\n",
      "    libraries = ['openblas', 'openblas']\n",
      "    language = c\n",
      "blis_info:\n",
      "  NOT AVAILABLE\n",
      "openblas_lapack_info:\n",
      "    library_dirs = ['/usr/local/lib']\n",
      "    define_macros = [('HAVE_CBLAS', None)]\n",
      "    libraries = ['openblas', 'openblas']\n",
      "    language = c\n",
      "blas_mkl_info:\n",
      "  NOT AVAILABLE\n",
      "None\n"
     ]
    }
   ],
   "source": [
    "# 2. print numpy version\n",
    "print(np.__version__)\n",
    "print(np.show_config())"
   ]
  },
  {
   "cell_type": "code",
   "execution_count": 3,
   "metadata": {},
   "outputs": [
    {
     "name": "stdout",
     "output_type": "stream",
     "text": [
      "[0. 0. 0. 0. 0. 0. 0. 0. 0. 0.]\n"
     ]
    }
   ],
   "source": [
    "# 3. 创建一个长度为10的空向量\n",
    "z = np.zeros(10)\n",
    "print(z)"
   ]
  },
  {
   "cell_type": "code",
   "execution_count": 4,
   "metadata": {},
   "outputs": [
    {
     "name": "stdout",
     "output_type": "stream",
     "text": [
      "memory:  800\n"
     ]
    }
   ],
   "source": [
    "# 4. 如何找到任何一个数组的内存大小\n",
    "z = np.zeros((10, 10))\n",
    "print('memory: ', z.size*z.itemsize)"
   ]
  },
  {
   "cell_type": "code",
   "execution_count": 5,
   "metadata": {},
   "outputs": [
    {
     "name": "stdout",
     "output_type": "stream",
     "text": [
      "add(x1, x2, /, out=None, *, where=True, casting='same_kind', order='K', dtype=None, subok=True[, signature, extobj])\n",
      "\n",
      "Add arguments element-wise.\n",
      "\n",
      "Parameters\n",
      "----------\n",
      "x1, x2 : array_like\n",
      "    The arrays to be added. If ``x1.shape != x2.shape``, they must be broadcastable to a common shape (which becomes the shape of the output).\n",
      "out : ndarray, None, or tuple of ndarray and None, optional\n",
      "    A location into which the result is stored. If provided, it must have\n",
      "    a shape that the inputs broadcast to. If not provided or `None`,\n",
      "    a freshly-allocated array is returned. A tuple (possible only as a\n",
      "    keyword argument) must have length equal to the number of outputs.\n",
      "where : array_like, optional\n",
      "    This condition is broadcast over the input. At locations where the\n",
      "    condition is True, the `out` array will be set to the ufunc result.\n",
      "    Elsewhere, the `out` array will retain its original value.\n",
      "    Note that if an uninitialized `out` array is created via the default\n",
      "    ``out=None``, locations within it where the condition is False will\n",
      "    remain uninitialized.\n",
      "**kwargs\n",
      "    For other keyword-only arguments, see the\n",
      "    :ref:`ufunc docs <ufuncs.kwargs>`.\n",
      "\n",
      "Returns\n",
      "-------\n",
      "add : ndarray or scalar\n",
      "    The sum of `x1` and `x2`, element-wise.\n",
      "    This is a scalar if both `x1` and `x2` are scalars.\n",
      "\n",
      "Notes\n",
      "-----\n",
      "Equivalent to `x1` + `x2` in terms of array broadcasting.\n",
      "\n",
      "Examples\n",
      "--------\n",
      ">>> np.add(1.0, 4.0)\n",
      "5.0\n",
      ">>> x1 = np.arange(9.0).reshape((3, 3))\n",
      ">>> x2 = np.arange(3.0)\n",
      ">>> np.add(x1, x2)\n",
      "array([[  0.,   2.,   4.],\n",
      "       [  3.,   5.,   7.],\n",
      "       [  6.,   8.,  10.]])\n"
     ]
    }
   ],
   "source": [
    "# 5. 如何从命令行得到numpy中add函数的说明文档\n",
    "np.info(np.add)"
   ]
  },
  {
   "cell_type": "code",
   "execution_count": 6,
   "metadata": {},
   "outputs": [
    {
     "name": "stdout",
     "output_type": "stream",
     "text": [
      "[0. 0. 0. 0. 1. 0. 0. 0. 0. 0.]\n"
     ]
    }
   ],
   "source": [
    "# 6. 创建一个长度为10并且除了第五个值为1的空向量\n",
    "z = np.zeros(10)\n",
    "z[4] = 1\n",
    "print(z)"
   ]
  },
  {
   "cell_type": "code",
   "execution_count": 7,
   "metadata": {},
   "outputs": [
    {
     "name": "stdout",
     "output_type": "stream",
     "text": [
      "[10 11 12 13 14 15 16 17 18 19 20 21 22 23 24 25 26 27 28 29 30 31 32 33\n",
      " 34 35 36 37 38 39 40 41 42 43 44 45 46 47 48 49]\n"
     ]
    }
   ],
   "source": [
    "# 7. 创建一个值域范围从10到49的向量\n",
    "z = np.arange(10, 50)\n",
    "print(z)"
   ]
  },
  {
   "cell_type": "code",
   "execution_count": 8,
   "metadata": {},
   "outputs": [
    {
     "name": "stdout",
     "output_type": "stream",
     "text": [
      "z:  [0 1 2 3 4 5 6 7 8 9]\n",
      "z_inv:  [9 8 7 6 5 4 3 2 1 0]\n"
     ]
    }
   ],
   "source": [
    "# 8. 反转一个向量(第一个元素变为最后一个)\n",
    "z = np.arange(0, 10)\n",
    "print('z: ', z)\n",
    "z_inv = z[::-1]\n",
    "print('z_inv: ', z_inv)"
   ]
  },
  {
   "cell_type": "code",
   "execution_count": 9,
   "metadata": {},
   "outputs": [
    {
     "name": "stdout",
     "output_type": "stream",
     "text": [
      "z:  [0 1 2 3 4 5 6 7 8]\n",
      "z_mat:  [[0 1 2]\n",
      " [3 4 5]\n",
      " [6 7 8]]\n"
     ]
    }
   ],
   "source": [
    "# 9. 创建一个 3x3 并且值从0到8的矩阵\n",
    "z = np.arange(9) # start from 0\n",
    "print('z: ', z)\n",
    "z_mat = z.reshape((3,3))\n",
    "print('z_mat: ', z_mat)"
   ]
  },
  {
   "cell_type": "code",
   "execution_count": 10,
   "metadata": {},
   "outputs": [
    {
     "name": "stdout",
     "output_type": "stream",
     "text": [
      "(array([0, 1, 4]),)\n"
     ]
    }
   ],
   "source": [
    "# 10. 找到数组[1,2,0,0,4,0]中非0元素的位置索引\n",
    "z = np.array([1,2,0,0,4,0])\n",
    "no_zero_idx = np.nonzero(z)\n",
    "print(no_zero_idx)"
   ]
  },
  {
   "cell_type": "code",
   "execution_count": 11,
   "metadata": {},
   "outputs": [
    {
     "name": "stdout",
     "output_type": "stream",
     "text": [
      "[[1. 0. 0.]\n",
      " [0. 1. 0.]\n",
      " [0. 0. 1.]]\n"
     ]
    }
   ],
   "source": [
    "# 11. 创建一个 3x3 的单位矩阵\n",
    "i_mat = np.eye(3) # identity\n",
    "print(i_mat)"
   ]
  },
  {
   "cell_type": "code",
   "execution_count": 12,
   "metadata": {},
   "outputs": [
    {
     "name": "stdout",
     "output_type": "stream",
     "text": [
      "[[[0.17493586 0.12735668 0.07237955]\n",
      "  [0.35805449 0.48141826 0.57943955]\n",
      "  [0.62974813 0.01948515 0.50122312]]\n",
      "\n",
      " [[0.84453852 0.27377654 0.54850923]\n",
      "  [0.71326745 0.22246542 0.47409351]\n",
      "  [0.25299621 0.44255889 0.09351585]]\n",
      "\n",
      " [[0.26230268 0.14784342 0.4998071 ]\n",
      "  [0.53066959 0.71057267 0.4957724 ]\n",
      "  [0.91845758 0.38768332 0.19875742]]]\n"
     ]
    }
   ],
   "source": [
    "# 12. 创建一个 3x3x3的随机数组\n",
    "z = np.random.random((3,3,3))\n",
    "print(z)"
   ]
  },
  {
   "cell_type": "code",
   "execution_count": 13,
   "metadata": {},
   "outputs": [
    {
     "name": "stdout",
     "output_type": "stream",
     "text": [
      "max:  0.9905872874211848\n",
      "min:  0.010401758937205074\n"
     ]
    }
   ],
   "source": [
    "# 13. 创建一个 10x10 的随机数组并找到它的最大值和最小值\n",
    "z = np.random.random((10, 10))\n",
    "print('max: ', np.max(z))\n",
    "print('min: ', np.min(z))"
   ]
  },
  {
   "cell_type": "code",
   "execution_count": 14,
   "metadata": {},
   "outputs": [
    {
     "name": "stdout",
     "output_type": "stream",
     "text": [
      "mean:  0.47703330779961656\n"
     ]
    }
   ],
   "source": [
    "# 14. 创建一个长度为30的随机向量并找到它的平均值 \n",
    "z = np.random.random(30)\n",
    "mean = np.mean(z)\n",
    "mean = z.mean()\n",
    "print('mean: ', mean)"
   ]
  },
  {
   "cell_type": "code",
   "execution_count": 15,
   "metadata": {},
   "outputs": [
    {
     "name": "stdout",
     "output_type": "stream",
     "text": [
      "[[1. 1. 1. 1. 1. 1. 1. 1. 1. 1.]\n",
      " [1. 0. 0. 0. 0. 0. 0. 0. 0. 1.]\n",
      " [1. 0. 0. 0. 0. 0. 0. 0. 0. 1.]\n",
      " [1. 0. 0. 0. 0. 0. 0. 0. 0. 1.]\n",
      " [1. 0. 0. 0. 0. 0. 0. 0. 0. 1.]\n",
      " [1. 0. 0. 0. 0. 0. 0. 0. 0. 1.]\n",
      " [1. 0. 0. 0. 0. 0. 0. 0. 0. 1.]\n",
      " [1. 0. 0. 0. 0. 0. 0. 0. 0. 1.]\n",
      " [1. 0. 0. 0. 0. 0. 0. 0. 0. 1.]\n",
      " [1. 1. 1. 1. 1. 1. 1. 1. 1. 1.]]\n"
     ]
    }
   ],
   "source": [
    "# 15. 创建一个二维数组，其中边界值为1，其余值为0 \n",
    "z = np.ones((10, 10))\n",
    "z[1:-1, 1:-1] = 0\n",
    "print(z)"
   ]
  },
  {
   "cell_type": "code",
   "execution_count": 16,
   "metadata": {},
   "outputs": [
    {
     "name": "stdout",
     "output_type": "stream",
     "text": [
      "[[0. 0. 0. 0. 0. 0. 0.]\n",
      " [0. 1. 1. 1. 1. 1. 0.]\n",
      " [0. 1. 1. 1. 1. 1. 0.]\n",
      " [0. 1. 1. 1. 1. 1. 0.]\n",
      " [0. 1. 1. 1. 1. 1. 0.]\n",
      " [0. 1. 1. 1. 1. 1. 0.]\n",
      " [0. 0. 0. 0. 0. 0. 0.]]\n"
     ]
    }
   ],
   "source": [
    "# 16. 对于一个存在数组，如何添加一个用0填充的边界? \n",
    "z = np.ones((5,5))\n",
    "z_pad = np.pad(z, pad_width=1, mode='constant', constant_values=0)\n",
    "print(z_pad)"
   ]
  },
  {
   "cell_type": "code",
   "execution_count": 17,
   "metadata": {},
   "outputs": [
    {
     "name": "stdout",
     "output_type": "stream",
     "text": [
      "0 * np.nan:  nan\n",
      "np.nan == np.nan:  False\n",
      "np.inf > np.nan:  False\n",
      "np.nan-np.nan:  nan\n",
      "0.3 == 3*0.1: False\n"
     ]
    }
   ],
   "source": [
    "# 17. 下面表达式运行的结果是什么？\n",
    "# (提示: NaN = not a number, inf = infinity)\n",
    "# 表达式                                             # 结果\n",
    "print('0 * np.nan: ', 0 * np.nan)                   # nan\n",
    "print('np.nan == np.nan: ', np.nan == np.nan)       # False\n",
    "print('np.inf > np.nan: ', np.inf > np.nan)         # False\n",
    "print('np.nan-np.nan: ', np.nan - np.nan)           # nan\n",
    "print('0.3 == 3*0.1:', 0.3 == 3 * 0.1)              # False"
   ]
  },
  {
   "cell_type": "code",
   "execution_count": 18,
   "metadata": {},
   "outputs": [
    {
     "name": "stdout",
     "output_type": "stream",
     "text": [
      "[[0 0 0 0 0]\n",
      " [1 0 0 0 0]\n",
      " [0 2 0 0 0]\n",
      " [0 0 3 0 0]\n",
      " [0 0 0 4 0]]\n"
     ]
    }
   ],
   "source": [
    "# 18. 创建一个 5x5的矩阵，并设置值1,2,3,4落在其对角线下方位置\n",
    "# Use k>0 for diagonals above the main diagonal, and k<0 for diagonals below the main diagonal\n",
    "z = np.diag(np.arange(4)+1, k=-1)\n",
    "print(z)"
   ]
  },
  {
   "cell_type": "code",
   "execution_count": 19,
   "metadata": {
    "scrolled": true
   },
   "outputs": [
    {
     "name": "stdout",
     "output_type": "stream",
     "text": [
      "[[0. 1. 0. 1. 0. 1. 0. 1.]\n",
      " [1. 0. 1. 0. 1. 0. 1. 0.]\n",
      " [0. 1. 0. 1. 0. 1. 0. 1.]\n",
      " [1. 0. 1. 0. 1. 0. 1. 0.]\n",
      " [0. 1. 0. 1. 0. 1. 0. 1.]\n",
      " [1. 0. 1. 0. 1. 0. 1. 0.]\n",
      " [0. 1. 0. 1. 0. 1. 0. 1.]\n",
      " [1. 0. 1. 0. 1. 0. 1. 0.]]\n"
     ]
    }
   ],
   "source": [
    "# 19. 创建一个8x8的矩阵，并且设置成棋盘样式\n",
    "z = np.zeros((8,8))\n",
    "z[1::2, ::2] = 1  # axis_0: [1, end], step = 2, axis_1: [0,end], step=2\n",
    "z[::2, 1::2] = 1  # axis_0: [0,end], step=2, step = 2, axis_1: [1,end], step=2\n",
    "print(z)"
   ]
  },
  {
   "cell_type": "code",
   "execution_count": 20,
   "metadata": {
    "scrolled": true
   },
   "outputs": [
    {
     "name": "stdout",
     "output_type": "stream",
     "text": [
      "(1, 5, 4)\n"
     ]
    }
   ],
   "source": [
    "# 20. 考虑一个 (6,7,8) 形状的数组，其第100个元素的索引(x,y,z)是什么?\n",
    "z = np.ones((6,7,8))\n",
    "print(np.unravel_index(100, z.shape))\n",
    "# (1, 5, 4) -> 1*(7x8) + 5*8 + 4 = 100"
   ]
  },
  {
   "cell_type": "code",
   "execution_count": 21,
   "metadata": {
    "scrolled": false
   },
   "outputs": [
    {
     "name": "stdout",
     "output_type": "stream",
     "text": [
      "[[0 1 0 1 0 1 0 1]\n",
      " [1 0 1 0 1 0 1 0]\n",
      " [0 1 0 1 0 1 0 1]\n",
      " [1 0 1 0 1 0 1 0]\n",
      " [0 1 0 1 0 1 0 1]\n",
      " [1 0 1 0 1 0 1 0]\n",
      " [0 1 0 1 0 1 0 1]\n",
      " [1 0 1 0 1 0 1 0]]\n"
     ]
    }
   ],
   "source": [
    "# 21. 用tile函数去创建一个 8x8的棋盘样式矩阵(★☆☆)\n",
    "## Construct an array by repeating A the number of times given by reps.\n",
    "checkboard = np.tile([[0,1],[1,0]], [4,4])\n",
    "print(checkboard)"
   ]
  },
  {
   "cell_type": "code",
   "execution_count": 22,
   "metadata": {},
   "outputs": [
    {
     "name": "stdout",
     "output_type": "stream",
     "text": [
      "[[0.70744048 1.         0.42766547 0.65684506 0.82267316]\n",
      " [0.59299298 0.48336496 0.81116462 0.57077407 0.15070124]\n",
      " [0.24207228 0.02856576 0.5320267  0.98456636 0.45144971]\n",
      " [0.         0.9308488  0.03936211 0.65983598 0.48480188]\n",
      " [0.0372199  0.796458   0.96639646 0.37053789 0.64084261]]\n"
     ]
    }
   ],
   "source": [
    "# 22. 对一个5x5的随机矩阵做归一化(★☆☆)\n",
    "# (x-min)/(max-min)\n",
    "a = np.random.random((5,5))\n",
    "a_min, a_max = a.min(), a.max()\n",
    "norm = (a-a_min)/(a_max-a_min)\n",
    "print(norm)"
   ]
  },
  {
   "cell_type": "code",
   "execution_count": 23,
   "metadata": {},
   "outputs": [
    {
     "name": "stderr",
     "output_type": "stream",
     "text": [
      "/home/king/.local/lib/python3.5/site-packages/ipykernel_launcher.py:5: FutureWarning: Passing (type, 1) or '1type' as a synonym of type is deprecated; in a future version of numpy, it will be understood as (type, (1,)) / '(1,)type'.\n",
      "  \"\"\"\n"
     ]
    },
    {
     "data": {
      "text/plain": [
       "dtype([('r', 'u1'), ('g', 'u1'), ('b', 'u1'), ('a', 'u1')])"
      ]
     },
     "execution_count": 23,
     "metadata": {},
     "output_type": "execute_result"
    }
   ],
   "source": [
    "# 23. 创建一个将颜色描述为(RGBA)四个无符号字节的自定义dtype？(★☆☆)\n",
    "color = np.dtype([('r', np.ubyte, 1),\n",
    "                  ('g', np.ubyte, 1),\n",
    "                  ('b', np.ubyte, 1),\n",
    "                  ('a', np.ubyte, 1)])\n",
    "color"
   ]
  },
  {
   "cell_type": "code",
   "execution_count": 24,
   "metadata": {},
   "outputs": [
    {
     "name": "stdout",
     "output_type": "stream",
     "text": [
      "result.shape:  (5, 2)\n"
     ]
    },
    {
     "data": {
      "text/plain": [
       "array([[0.53928095, 0.54092279],\n",
       "       [1.01861596, 1.16622253],\n",
       "       [1.07570061, 1.2903548 ],\n",
       "       [0.76893721, 0.96612231],\n",
       "       [0.56935518, 0.66404118]])"
      ]
     },
     "execution_count": 24,
     "metadata": {},
     "output_type": "execute_result"
    }
   ],
   "source": [
    "# 24. 一个5x3的矩阵与一个3x2的矩阵相乘，实矩阵乘积是什么？(★☆☆)\n",
    "# np.dot\n",
    "mat_a = np.random.random((5,3))\n",
    "mat_b = np.random.random((3,2))\n",
    "result = np.dot(mat_a, mat_b)\n",
    "print('result.shape: ', result.shape)\n",
    "result"
   ]
  },
  {
   "cell_type": "code",
   "execution_count": 25,
   "metadata": {},
   "outputs": [
    {
     "name": "stdout",
     "output_type": "stream",
     "text": [
      "a_org:  [0 1 2 3 4 5 6 7 8 9]\n",
      "a_after:  [ 0  1  2 -3 -4 -5 -6 -7 -8  9]\n"
     ]
    }
   ],
   "source": [
    "# 25. 给定一个一维数组，对数值其在3到8之间的所有元素取反 (★☆☆)\n",
    "a = np.arange(10)\n",
    "print('a_org: ', a)\n",
    "a[(a>=3) & (a <= 8)] *= -1\n",
    "print('a_after: ', a)"
   ]
  },
  {
   "cell_type": "code",
   "execution_count": 26,
   "metadata": {},
   "outputs": [
    {
     "name": "stdout",
     "output_type": "stream",
     "text": [
      "9\n",
      "10\n"
     ]
    }
   ],
   "source": [
    "# 26. 下面脚本运行后的结果是什么? (★☆☆)\n",
    "z# Author: Jake VanderPlas               # 结果\n",
    "## 列表计算总和后再加 -1\n",
    "print(sum(range(5),-1))                 # 9\n",
    "from numpy import *   \n",
    "## np.sum(), -1 means axis=None\n",
    "print(sum(range(5),-1))                 # 10    #numpy.sum(a, axis=None)"
   ]
  },
  {
   "cell_type": "code",
   "execution_count": 27,
   "metadata": {},
   "outputs": [
    {
     "data": {
      "text/plain": [
       "array([0., 1., 2., 3., 4., 5., 6., 7., 8., 9.])"
      ]
     },
     "execution_count": 27,
     "metadata": {},
     "output_type": "execute_result"
    }
   ],
   "source": [
    "# 27. 考虑一个整数向量Z,下列表达合法的是哪个? (★☆☆)\n",
    "Z = np.arange(10)\n",
    "Z**Z                        \n",
    "2 << Z >> 2                 \n",
    "Z <- Z                      \n",
    "1j*Z                        #复数           \n",
    "Z/1/1                       \n",
    "# Z<Z>Z          # not ilegoal"
   ]
  },
  {
   "cell_type": "code",
   "execution_count": 28,
   "metadata": {},
   "outputs": [
    {
     "name": "stderr",
     "output_type": "stream",
     "text": [
      "/home/king/.local/lib/python3.5/site-packages/ipykernel_launcher.py:2: RuntimeWarning: invalid value encountered in true_divide\n",
      "  \n",
      "/home/king/.local/lib/python3.5/site-packages/ipykernel_launcher.py:3: RuntimeWarning: divide by zero encountered in floor_divide\n",
      "  This is separate from the ipykernel package so we can avoid doing imports until\n"
     ]
    },
    {
     "data": {
      "text/plain": [
       "array([-9.22337204e+18])"
      ]
     },
     "execution_count": 28,
     "metadata": {},
     "output_type": "execute_result"
    }
   ],
   "source": [
    "# 28. 下面表达式的结果分别是什么？(★☆☆)\n",
    "np.array(0) / np.array(0)                           # nan\n",
    "np.array(0) // np.array(0)                          # 0\n",
    "np.array([np.nan]).astype(int).astype(float)        # -2.14748365e+09"
   ]
  },
  {
   "cell_type": "code",
   "execution_count": 29,
   "metadata": {},
   "outputs": [
    {
     "name": "stdout",
     "output_type": "stream",
     "text": [
      "[ 0.82513287  4.14803925  4.0282465  -2.17347092 -2.82922185 -2.50031592\n",
      " -7.16578045 -9.20338606 -0.46963497  1.61289874]\n",
      "[ 0.82513287  4.14803925  4.0282465  -2.17347092 -2.82922185 -2.50031592\n",
      " -7.16578045 -9.20338606 -0.46963497  1.61289874]\n"
     ]
    }
   ],
   "source": [
    "# 29. 如何从零位开始舍入浮点数组？(★☆☆)\n",
    "a = np.random.uniform(-10, 10, 10)  # low, high, size\n",
    "print(a)\n",
    "# copysign: Change the sign of x1 to that of x2, element-wise.\n",
    "np.copysign(np.ceil(np.abs(a)), a)\n",
    "print(a)"
   ]
  },
  {
   "cell_type": "code",
   "execution_count": 30,
   "metadata": {
    "scrolled": false
   },
   "outputs": [
    {
     "name": "stdout",
     "output_type": "stream",
     "text": [
      "a:  [4 5 2 4 6 5 6 8 6 3]\n",
      "b:  [4 0 4 4 6 6 4 5 1 0]\n",
      "[4 5 6]\n"
     ]
    }
   ],
   "source": [
    "# 30. 如何找出两个数组公共的元素? (★☆☆)\n",
    "a = np.random.randint(0, 10, 10)\n",
    "print('a: ', a)\n",
    "b = np.random.randint(0, 10, 10)\n",
    "print('b: ', b)\n",
    "print(np.intersect1d(a,b))"
   ]
  },
  {
   "cell_type": "code",
   "execution_count": 31,
   "metadata": {},
   "outputs": [
    {
     "name": "stderr",
     "output_type": "stream",
     "text": [
      "/home/king/.local/lib/python3.5/site-packages/ipykernel_launcher.py:6: RuntimeWarning: divide by zero encountered in true_divide\n",
      "  \n"
     ]
    }
   ],
   "source": [
    "# 31. 如何忽略所有的 numpy 警告(尽管不建议这么做)? (★☆☆)\n",
    "default = np.seterr(all='ignore')\n",
    "z = np.ones(1)/0\n",
    "# back to sanity\n",
    "_ = np.seterr(**default)\n",
    "z = np.ones(1)/0\n",
    "# 另一个等价的方式， 使用上下文管理器（context manager）\n",
    "with np.errstate(divide='ignore'):\n",
    "    Z = np.ones(1) / 0"
   ]
  },
  {
   "cell_type": "code",
   "execution_count": 32,
   "metadata": {},
   "outputs": [
    {
     "name": "stdout",
     "output_type": "stream",
     "text": [
      "np.sqrt(-1):  nan\n",
      "np.emath.sqrt(-1):  1j\n"
     ]
    },
    {
     "name": "stderr",
     "output_type": "stream",
     "text": [
      "/home/king/.local/lib/python3.5/site-packages/ipykernel_launcher.py:3: RuntimeWarning: invalid value encountered in sqrt\n",
      "  This is separate from the ipykernel package so we can avoid doing imports until\n",
      "/home/king/.local/lib/python3.5/site-packages/ipykernel_launcher.py:5: RuntimeWarning: invalid value encountered in sqrt\n",
      "  \"\"\"\n"
     ]
    },
    {
     "data": {
      "text/plain": [
       "False"
      ]
     },
     "execution_count": 32,
     "metadata": {},
     "output_type": "execute_result"
    }
   ],
   "source": [
    "# 32. 下面的表达式是否为真? (★☆☆)\n",
    "# https://blog.csdn.net/qq_38830891/article/details/102795836\n",
    "print('np.sqrt(-1): ', np.sqrt(-1))\n",
    "print('np.emath.sqrt(-1): ', np.emath.sqrt(-1))\n",
    "np.sqrt(-1) == np.emath.sqrt(-1)     "
   ]
  },
  {
   "cell_type": "code",
   "execution_count": 33,
   "metadata": {
    "scrolled": true
   },
   "outputs": [
    {
     "name": "stdout",
     "output_type": "stream",
     "text": [
      "yesterday:  2021-10-06\n",
      "today:  2021-10-07\n",
      "tomorrow:  2021-10-08\n"
     ]
    }
   ],
   "source": [
    "# 33. 如何获得昨天，今天和明天的日期? (★☆☆)\n",
    "## np.datetime64, np.timedelta64\n",
    "yesterdy = np.datetime64('today', 'D')-np.timedelta64(1, 'D')\n",
    "print('yesterday: ', yesterdy)\n",
    "today = np.datetime64('today', 'D')\n",
    "print('today: ', today)\n",
    "tomorrow = np.datetime64('today', 'D')+np.timedelta64(1, 'D')\n",
    "print('tomorrow: ', tomorrow)"
   ]
  },
  {
   "cell_type": "code",
   "execution_count": 34,
   "metadata": {},
   "outputs": [
    {
     "name": "stdout",
     "output_type": "stream",
     "text": [
      "[-1. -1. -1.]\n"
     ]
    }
   ],
   "source": [
    "# 35. 如何计算 ((A+B)*(-A/2)) (不使用中间变量)? (★★☆)\n",
    "# np.add(out=), np.negative(out=), np.multiply(out=), np.divide(out=)\n",
    "A = np.ones(3)*1\n",
    "B = np.ones(3)*1\n",
    "# A+B\n",
    "np.add(A, B, out=B)\n",
    "# -A/2\n",
    "np.divide(A, 2, out=A)\n",
    "np.negative(A, out=A)\n",
    "# (A+B)*(-A/2)\n",
    "np.multiply(A, B, out=A)\n",
    "print(A)"
   ]
  },
  {
   "cell_type": "code",
   "execution_count": 35,
   "metadata": {},
   "outputs": [
    {
     "name": "stdout",
     "output_type": "stream",
     "text": [
      "z_org:  [0.71488486 4.22380337 9.07274829 9.5311666  4.71664674 4.50060212\n",
      " 1.60671837 6.06264842 8.06232309 9.44944006]\n",
      "[0. 4. 9. 9. 4. 4. 1. 6. 8. 9.]\n",
      "[0. 4. 9. 9. 4. 4. 1. 6. 8. 9.]\n",
      "[0. 4. 9. 9. 4. 4. 1. 6. 8. 9.]\n",
      "[0 4 9 9 4 4 1 6 8 9]\n",
      "[0. 4. 9. 9. 4. 4. 1. 6. 8. 9.]\n"
     ]
    }
   ],
   "source": [
    "# 36. 用5种不同的方法提取随机数组中的整数部分 (★★☆)\n",
    "z = np.random.uniform(0, 10, 10)\n",
    "print('z_org: ', z)\n",
    "print(z-z%1)\n",
    "print(np.ceil(z)-1)\n",
    "print(np.floor(z))\n",
    "print(z.astype(int))\n",
    "print(np.trunc(z))"
   ]
  },
  {
   "cell_type": "code",
   "execution_count": 36,
   "metadata": {},
   "outputs": [
    {
     "name": "stdout",
     "output_type": "stream",
     "text": [
      "[[0. 1. 2. 3. 4.]\n",
      " [0. 1. 2. 3. 4.]\n",
      " [0. 1. 2. 3. 4.]\n",
      " [0. 1. 2. 3. 4.]\n",
      " [0. 1. 2. 3. 4.]]\n"
     ]
    }
   ],
   "source": [
    "# 37. 创建一个5x5的矩阵且每一行的值范围为从0到4 (★★☆)\n",
    "z = np.zeros([5,5])\n",
    "z += np.arange(5)\n",
    "print(z)"
   ]
  },
  {
   "cell_type": "code",
   "execution_count": 37,
   "metadata": {
    "scrolled": true
   },
   "outputs": [
    {
     "name": "stdout",
     "output_type": "stream",
     "text": [
      "[0. 1. 2. 3. 4. 5. 6. 7. 8. 9.]\n"
     ]
    }
   ],
   "source": [
    "# 38. 如何用一个生成10个整数的函数来构建数组 (★☆☆)\n",
    "# np.fromiter: Create a new 1-dimensional array from an iterable object.\n",
    "def fun():\n",
    "    for i in range(10):\n",
    "        yield i\n",
    "z = np.fromiter(fun(), dtype=float, count=-1) # count: The default is -1, which means all data is read.\n",
    "print(z)"
   ]
  },
  {
   "cell_type": "code",
   "execution_count": 38,
   "metadata": {},
   "outputs": [
    {
     "name": "stdout",
     "output_type": "stream",
     "text": [
      "z_org:  [0.         0.11111111 0.22222222 0.33333333 0.44444444 0.55555556\n",
      " 0.66666667 0.77777778 0.88888889 1.        ]\n",
      "z:  [0.11111111 0.22222222 0.33333333 0.44444444 0.55555556 0.66666667\n",
      " 0.77777778 0.88888889]\n"
     ]
    }
   ],
   "source": [
    "# 39. 创建一个大小为10的向量， 值域为0到1，不包括0和1 (★★☆)\n",
    "## np.linspace\n",
    "z = np.linspace(0, 1, 10, endpoint=True)\n",
    "print('z_org: ', z)\n",
    "z = z[1: -1] # exclude 0&1\n",
    "print('z: ', z)"
   ]
  },
  {
   "cell_type": "code",
   "execution_count": 39,
   "metadata": {},
   "outputs": [
    {
     "name": "stdout",
     "output_type": "stream",
     "text": [
      "z_org:  [0.68048689 0.45235905 0.07205385 0.01386617 0.07149032 0.13645292\n",
      " 0.00926035 0.9060569  0.85960942 0.79522206]\n",
      "z_sort:  [0.00926035 0.01386617 0.07149032 0.07205385 0.13645292 0.45235905\n",
      " 0.68048689 0.79522206 0.85960942 0.9060569 ]\n"
     ]
    }
   ],
   "source": [
    "# 40. 创建一个大小为10的随机向量，并把它排序 (★★☆)\n",
    "z = np.random.random(10)\n",
    "print('z_org: ', z)\n",
    "z.sort()\n",
    "print('z_sort: ', z)"
   ]
  },
  {
   "cell_type": "code",
   "execution_count": 40,
   "metadata": {},
   "outputs": [
    {
     "name": "stdout",
     "output_type": "stream",
     "text": [
      "np.sum:  0.00014209747314453125\n",
      "np.add.reduce:  0.00011014938354492188\n"
     ]
    }
   ],
   "source": [
    "# 41. 对一个小数组进行求和有没有办法比np.sum更快? (★★☆)\n",
    "# https://stackoverflow.com/questions/16420097/what-is-the-difference-between-np-sum-and-np-add-reduce\n",
    "# The performance of the two seems to be quite different: for relatively small array sizes add.reduce is about twice faster.\n",
    "import time\n",
    "a = np.arange(10)\n",
    "t1 = time.time()\n",
    "sum = np.sum(a)\n",
    "t2 = time.time()\n",
    "sum = np.add.reduce(a)\n",
    "t3 = time.time()\n",
    "print('np.sum: ', (t2-t1))\n",
    "print('np.add.reduce: ', (t3-t2))"
   ]
  },
  {
   "cell_type": "code",
   "execution_count": 41,
   "metadata": {},
   "outputs": [
    {
     "name": "stdout",
     "output_type": "stream",
     "text": [
      "[0 0 0 1 0]\n",
      "[1 0 1 0 1]\n",
      "allclose:  False\n",
      "array_equal:  False\n"
     ]
    }
   ],
   "source": [
    "# 42. 如何判断两个随机数组相等 (★★☆)\n",
    "# np.allclose, np.array_equal\n",
    "a = np.random.randint(0, 2, 5) # low, high=None, size=None\n",
    "b = np.random.randint(0, 2, 5)\n",
    "print(a)\n",
    "print(b)\n",
    "# equal\n",
    "equal = np.allclose(a, b)\n",
    "print('allclose: ', equal)\n",
    "equal = np.array_equal(a, b)\n",
    "print('array_equal: ', equal)"
   ]
  },
  {
   "cell_type": "code",
   "execution_count": 42,
   "metadata": {},
   "outputs": [
    {
     "name": "stdout",
     "output_type": "stream",
     "text": [
      "[1. 1. 1. 1. 1.]\n"
     ]
    }
   ],
   "source": [
    "# 43. 把数组变为只读 (★★☆)\n",
    "z = np.ones(5)\n",
    "z.flags.writeable = False\n",
    "# z[0] = 0\n",
    "print(z)"
   ]
  },
  {
   "cell_type": "code",
   "execution_count": 43,
   "metadata": {},
   "outputs": [
    {
     "name": "stdout",
     "output_type": "stream",
     "text": [
      "a_org:  [[0.50090886 0.46470682]\n",
      " [0.60153298 0.15802399]\n",
      " [0.87050671 0.0497945 ]\n",
      " [0.70262245 0.94268128]\n",
      " [0.09174089 0.96409272]\n",
      " [0.0801203  0.21856408]\n",
      " [0.75588752 0.29663024]\n",
      " [0.0466229  0.80655111]\n",
      " [0.50016599 0.08758112]\n",
      " [0.52533869 0.35151884]]\n",
      "b:  [[0.68327308 0.74792457]\n",
      " [0.62194333 0.25689742]\n",
      " [0.87192971 0.05713947]\n",
      " [1.17572374 0.93028131]\n",
      " [0.96844781 1.47592425]\n",
      " [0.23278643 1.21943164]\n",
      " [0.81200704 0.37396044]\n",
      " [0.80789751 1.51305532]\n",
      " [0.50777601 0.17334669]\n",
      " [0.6320967  0.58970468]]\n"
     ]
    }
   ],
   "source": [
    "# 44. 将一个10x2的笛卡尔坐标矩阵转换为极坐标 (★★☆)\n",
    "# np.sqrt, np.arctan2\n",
    "a = np.random.random((10, 2))\n",
    "print('a_org: ', a)\n",
    "x, y = a[:, 0], a[:, 1]\n",
    "# transform\n",
    "R = np.sqrt((x**2)+(y**2))\n",
    "theta = np.arctan2(y,x)\n",
    "b = np.zeros((10, 2))\n",
    "b[:, 0] = R\n",
    "b[:, 1] = theta\n",
    "print('b: ', b)"
   ]
  },
  {
   "cell_type": "code",
   "execution_count": 44,
   "metadata": {},
   "outputs": [
    {
     "name": "stdout",
     "output_type": "stream",
     "text": [
      "a_org:  [0.27641569 0.15173172 0.80894952 0.07509404 0.79492111 0.26067631\n",
      " 0.91047074 0.87364432 0.27430792 0.87326095]\n",
      "argmax:  6\n",
      "a:  [0.27641569 0.15173172 0.80894952 0.07509404 0.79492111 0.26067631\n",
      " 0.         0.87364432 0.27430792 0.87326095]\n"
     ]
    }
   ],
   "source": [
    "# 45. 创建一个大小为10的随机向量并且将该向量中最大的值替换为0(★★☆)\n",
    "a = np.random.random(10)\n",
    "print('a_org: ', a)\n",
    "print('argmax: ', a.argmax())\n",
    "a[a.argmax()] = 0\n",
    "print('a: ', a)"
   ]
  },
  {
   "cell_type": "code",
   "execution_count": 45,
   "metadata": {
    "scrolled": false
   },
   "outputs": [
    {
     "name": "stdout",
     "output_type": "stream",
     "text": [
      "[[(0.  , 0.  ) (0.25, 0.  ) (0.5 , 0.  ) (0.75, 0.  ) (1.  , 0.  )]\n",
      " [(0.  , 0.25) (0.25, 0.25) (0.5 , 0.25) (0.75, 0.25) (1.  , 0.25)]\n",
      " [(0.  , 0.5 ) (0.25, 0.5 ) (0.5 , 0.5 ) (0.75, 0.5 ) (1.  , 0.5 )]\n",
      " [(0.  , 0.75) (0.25, 0.75) (0.5 , 0.75) (0.75, 0.75) (1.  , 0.75)]\n",
      " [(0.  , 1.  ) (0.25, 1.  ) (0.5 , 1.  ) (0.75, 1.  ) (1.  , 1.  )]]\n"
     ]
    }
   ],
   "source": [
    "# @46. 创建一个结构化数组，其中x和y坐标覆盖[0, 1]x[1, 0]区域 (★★☆)\n",
    "# X, Y = np.meshgrid(x, y)\n",
    "# 假设 x, y 分别为 m, n 维向量，则矩阵（数组）X, Y 的 dimension 都是：n*m 。其中矩阵 X 中的行都为向量 x，矩阵 Y 的列都为向量 y\n",
    "z = np.zeros((5,5), [('x', float), ('y', float)])\n",
    "z['x'], z['y'] = np.meshgrid(np.linspace(0, 1, 5), np.linspace(0, 1, 5))\n",
    "print(z)"
   ]
  },
  {
   "cell_type": "code",
   "execution_count": 46,
   "metadata": {},
   "outputs": [
    {
     "name": "stdout",
     "output_type": "stream",
     "text": [
      "[[-2.         -0.66666667 -0.4        -0.28571429 -0.22222222 -0.18181818\n",
      "  -0.15384615 -0.13333333]\n",
      " [ 2.         -2.         -0.66666667 -0.4        -0.28571429 -0.22222222\n",
      "  -0.18181818 -0.15384615]\n",
      " [ 0.66666667  2.         -2.         -0.66666667 -0.4        -0.28571429\n",
      "  -0.22222222 -0.18181818]\n",
      " [ 0.4         0.66666667  2.         -2.         -0.66666667 -0.4\n",
      "  -0.28571429 -0.22222222]\n",
      " [ 0.28571429  0.4         0.66666667  2.         -2.         -0.66666667\n",
      "  -0.4        -0.28571429]\n",
      " [ 0.22222222  0.28571429  0.4         0.66666667  2.         -2.\n",
      "  -0.66666667 -0.4       ]\n",
      " [ 0.18181818  0.22222222  0.28571429  0.4         0.66666667  2.\n",
      "  -2.         -0.66666667]\n",
      " [ 0.15384615  0.18181818  0.22222222  0.28571429  0.4         0.66666667\n",
      "   2.         -2.        ]]\n",
      "3638.163637117973\n"
     ]
    }
   ],
   "source": [
    "# 47. 给定两个数组X和Y，构造柯西(Cauchy)矩阵C () (★★☆)\n",
    "x = np.arange(8)\n",
    "y = x+0.5\n",
    "c = 1.0 / np.subtract.outer(x, y)\n",
    "print(c)\n",
    "print(np.linalg.det(c))"
   ]
  },
  {
   "cell_type": "code",
   "execution_count": 47,
   "metadata": {},
   "outputs": [
    {
     "name": "stdout",
     "output_type": "stream",
     "text": [
      "-128\n",
      "127\n",
      "-2147483648\n",
      "2147483647\n",
      "-9223372036854775808\n",
      "9223372036854775807\n",
      "-3.4028235e+38\n",
      "3.4028235e+38\n",
      "1.1920929e-07\n",
      "-1.7976931348623157e+308\n",
      "1.7976931348623157e+308\n",
      "2.220446049250313e-16\n"
     ]
    }
   ],
   "source": [
    "# 48. 打印每个numpy 类型的最小和最大可表示值 (★★☆)\n",
    "for dtype in [np.int8, np.int32, np.int64]:\n",
    "    print(np.iinfo(dtype).min)\n",
    "    print(np.iinfo(dtype).max)\n",
    "for dtype in [np.float32, np.float64]:\n",
    "    print(np.finfo(dtype).min)\n",
    "    print(np.finfo(dtype).max)\n",
    "    print(np.finfo(dtype).eps)"
   ]
  },
  {
   "cell_type": "code",
   "execution_count": 48,
   "metadata": {},
   "outputs": [
    {
     "name": "stdout",
     "output_type": "stream",
     "text": [
      "[[0. 0. 0. 0. 0. 0. 0. 0. 0. 0. 0. 0. 0. 0. 0. 0.]\n",
      " [0. 0. 0. 0. 0. 0. 0. 0. 0. 0. 0. 0. 0. 0. 0. 0.]\n",
      " [0. 0. 0. 0. 0. 0. 0. 0. 0. 0. 0. 0. 0. 0. 0. 0.]\n",
      " [0. 0. 0. 0. 0. 0. 0. 0. 0. 0. 0. 0. 0. 0. 0. 0.]\n",
      " [0. 0. 0. 0. 0. 0. 0. 0. 0. 0. 0. 0. 0. 0. 0. 0.]\n",
      " [0. 0. 0. 0. 0. 0. 0. 0. 0. 0. 0. 0. 0. 0. 0. 0.]\n",
      " [0. 0. 0. 0. 0. 0. 0. 0. 0. 0. 0. 0. 0. 0. 0. 0.]\n",
      " [0. 0. 0. 0. 0. 0. 0. 0. 0. 0. 0. 0. 0. 0. 0. 0.]\n",
      " [0. 0. 0. 0. 0. 0. 0. 0. 0. 0. 0. 0. 0. 0. 0. 0.]\n",
      " [0. 0. 0. 0. 0. 0. 0. 0. 0. 0. 0. 0. 0. 0. 0. 0.]\n",
      " [0. 0. 0. 0. 0. 0. 0. 0. 0. 0. 0. 0. 0. 0. 0. 0.]\n",
      " [0. 0. 0. 0. 0. 0. 0. 0. 0. 0. 0. 0. 0. 0. 0. 0.]\n",
      " [0. 0. 0. 0. 0. 0. 0. 0. 0. 0. 0. 0. 0. 0. 0. 0.]\n",
      " [0. 0. 0. 0. 0. 0. 0. 0. 0. 0. 0. 0. 0. 0. 0. 0.]\n",
      " [0. 0. 0. 0. 0. 0. 0. 0. 0. 0. 0. 0. 0. 0. 0. 0.]\n",
      " [0. 0. 0. 0. 0. 0. 0. 0. 0. 0. 0. 0. 0. 0. 0. 0.]]\n"
     ]
    }
   ],
   "source": [
    "# 49. 如何打印数组中所有的值？(★★☆)\n",
    "import sys\n",
    "# To always use the full repr without summarization, pass sys.maxsize.\n",
    "np.set_printoptions(threshold=sys.maxsize) # sys.maxsize\n",
    "z = np.zeros((16, 16))\n",
    "print(z)"
   ]
  },
  {
   "cell_type": "code",
   "execution_count": 49,
   "metadata": {},
   "outputs": [
    {
     "name": "stdout",
     "output_type": "stream",
     "text": [
      "29\n"
     ]
    }
   ],
   "source": [
    "# 50. 如何在数组中找到与给定标量接近的值? (★★☆)\n",
    "z = np.arange(100)\n",
    "v = np.random.uniform(0, 100)\n",
    "index = np.abs(z-v).argmin()\n",
    "print(z[index])"
   ]
  },
  {
   "cell_type": "code",
   "execution_count": 50,
   "metadata": {},
   "outputs": [
    {
     "name": "stdout",
     "output_type": "stream",
     "text": [
      "[((0., 0.), (0., 0., 0., 0.)) ((0., 0.), (0., 0., 0., 0.))\n",
      " ((0., 0.), (0., 0., 0., 0.)) ((0., 0.), (0., 0., 0., 0.))\n",
      " ((0., 0.), (0., 0., 0., 0.)) ((0., 0.), (0., 0., 0., 0.))\n",
      " ((0., 0.), (0., 0., 0., 0.)) ((0., 0.), (0., 0., 0., 0.))\n",
      " ((0., 0.), (0., 0., 0., 0.)) ((0., 0.), (0., 0., 0., 0.))]\n"
     ]
    },
    {
     "name": "stderr",
     "output_type": "stream",
     "text": [
      "/home/king/.local/lib/python3.5/site-packages/ipykernel_launcher.py:4: FutureWarning: Passing (type, 1) or '1type' as a synonym of type is deprecated; in a future version of numpy, it will be understood as (type, (1,)) / '(1,)type'.\n",
      "  after removing the cwd from sys.path.\n"
     ]
    }
   ],
   "source": [
    "# 51. 创建表示位置(x, y)和颜色(r, g, b, a)的结构化数组 (★★☆)\n",
    "# custom dtype\n",
    "z = np.zeros(10, dtype=[('position', [('x', float, 1), ('y', float, 1)]),\n",
    "                        ('color', [('r', float, 1), ('g', float, 1), ('b', float, 1), ('a', float, 1)])])\n",
    "print(z)"
   ]
  },
  {
   "cell_type": "code",
   "execution_count": 51,
   "metadata": {},
   "outputs": [
    {
     "name": "stdout",
     "output_type": "stream",
     "text": [
      "z[:, 0].shape (100,)\n",
      "x.shape:  (1, 100)\n",
      "y.shape (1, 100)\n",
      "(100, 100)\n",
      "(100, 100)\n"
     ]
    }
   ],
   "source": [
    "# 52. 思考形状为(100, 2)的随机向量，求出点与点之间的距离 (★★☆)\n",
    "# numpy.atleast_2d: View inputs as arrays with at least two dimensions.\n",
    "z = np.random.random((100, 2))\n",
    "x, y = np.atleast_2d(z[:, 0], z[:, 1])\n",
    "print('z[:, 0].shape', z[:, 0].shape)\n",
    "print('x.shape: ', x.shape)\n",
    "print('y.shape', y.shape)\n",
    "dist = np.sqrt((x-x.T)**2 + (y-y.T)**2)\n",
    "print(dist.shape)\n",
    "# scipy\n",
    "import scipy.spatial\n",
    "dist = scipy.spatial.distance.cdist(z, z)\n",
    "print(dist.shape)"
   ]
  },
  {
   "cell_type": "code",
   "execution_count": 52,
   "metadata": {
    "scrolled": true
   },
   "outputs": [
    {
     "name": "stdout",
     "output_type": "stream",
     "text": [
      "[ 1.  2.  3.  4. nan nan nan  7.  8. nan  9. 10. 11.]\n"
     ]
    }
   ],
   "source": [
    "# 54. 如何读取下面的文件? (★★☆)\n",
    "# 1, 2, 3, 4, 5\n",
    "# 6,  ,  , 7, 8\n",
    "#  ,  , 9,10,11\n",
    "# 先把上面保存到文件example.txt中\n",
    "# 这里不使用StringIO， 因为Python2 和Python3 在这个地方有兼容性问题\n",
    "str = '1, 2, 3, 4, 5 \\\n",
    "       6, , , 7, 8 \\\n",
    "       ,  , 9, 10, 11'\n",
    "with open('example.txt', 'w') as f:\n",
    "    f.write(str)\n",
    "# np.genfromtxt: Load data from a text file, with missing values handled as specified\n",
    "# delimiter: The string used to separate values. By default, any consecutive whitespaces act as delimiter\n",
    "z = np.genfromtxt('example.txt', delimiter=',')\n",
    "print(z)"
   ]
  },
  {
   "cell_type": "code",
   "execution_count": 53,
   "metadata": {},
   "outputs": [
    {
     "name": "stdout",
     "output_type": "stream",
     "text": [
      "np.ndenumerate:\n",
      "(0, 0) 0\n",
      "(0, 1) 1\n",
      "(0, 2) 2\n",
      "(1, 0) 3\n",
      "(1, 1) 4\n",
      "(1, 2) 5\n",
      "(2, 0) 6\n",
      "(2, 1) 7\n",
      "(2, 2) 8\n",
      "np.ndindex:\n",
      "(0, 0) 0\n",
      "(0, 1) 1\n",
      "(0, 2) 2\n",
      "(1, 0) 3\n",
      "(1, 1) 4\n",
      "(1, 2) 5\n",
      "(2, 0) 6\n",
      "(2, 1) 7\n",
      "(2, 2) 8\n"
     ]
    }
   ],
   "source": [
    "# 55. numpy数组枚举(enumerate)的等价操作? (★★☆)\n",
    "z = np.arange(9).reshape(3,3)\n",
    "print('np.ndenumerate:')\n",
    "for idx, num in np.ndenumerate(z):\n",
    "    print(idx, num)\n",
    "print('np.ndindex:')\n",
    "for idx in np.ndindex(z.shape):\n",
    "    print(idx, z[idx])"
   ]
  },
  {
   "cell_type": "code",
   "execution_count": 54,
   "metadata": {},
   "outputs": [
    {
     "name": "stdout",
     "output_type": "stream",
     "text": [
      "[[0.36787944 0.44822088 0.51979489 0.57375342 0.60279818 0.60279818\n",
      "  0.57375342 0.51979489 0.44822088 0.36787944]\n",
      " [0.44822088 0.54610814 0.63331324 0.69905581 0.73444367 0.73444367\n",
      "  0.69905581 0.63331324 0.54610814 0.44822088]\n",
      " [0.51979489 0.63331324 0.73444367 0.81068432 0.85172308 0.85172308\n",
      "  0.81068432 0.73444367 0.63331324 0.51979489]\n",
      " [0.57375342 0.69905581 0.81068432 0.89483932 0.9401382  0.9401382\n",
      "  0.89483932 0.81068432 0.69905581 0.57375342]\n",
      " [0.60279818 0.73444367 0.85172308 0.9401382  0.98773022 0.98773022\n",
      "  0.9401382  0.85172308 0.73444367 0.60279818]\n",
      " [0.60279818 0.73444367 0.85172308 0.9401382  0.98773022 0.98773022\n",
      "  0.9401382  0.85172308 0.73444367 0.60279818]\n",
      " [0.57375342 0.69905581 0.81068432 0.89483932 0.9401382  0.9401382\n",
      "  0.89483932 0.81068432 0.69905581 0.57375342]\n",
      " [0.51979489 0.63331324 0.73444367 0.81068432 0.85172308 0.85172308\n",
      "  0.81068432 0.73444367 0.63331324 0.51979489]\n",
      " [0.44822088 0.54610814 0.63331324 0.69905581 0.73444367 0.73444367\n",
      "  0.69905581 0.63331324 0.54610814 0.44822088]\n",
      " [0.36787944 0.44822088 0.51979489 0.57375342 0.60279818 0.60279818\n",
      "  0.57375342 0.51979489 0.44822088 0.36787944]]\n"
     ]
    }
   ],
   "source": [
    "# 56. 构造一个二维高斯矩阵(★★☆)\n",
    "x, y = np.meshgrid(np.linspace(-1, 1, 10), np.linspace(-1, 1, 10))\n",
    "d = np.sqrt(x**2+y**2)\n",
    "sigma, mu = 1.0, 0.0\n",
    "G = np.exp(-(d-mu)**2/(2*sigma**2))\n",
    "print(G)"
   ]
  },
  {
   "cell_type": "code",
   "execution_count": 55,
   "metadata": {},
   "outputs": [
    {
     "name": "stdout",
     "output_type": "stream",
     "text": [
      "[[0. 0. 0. 0. 0. 0. 0. 0. 0. 0.]\n",
      " [0. 0. 0. 0. 0. 0. 0. 0. 0. 0.]\n",
      " [0. 0. 0. 0. 0. 0. 0. 0. 0. 0.]\n",
      " [0. 0. 0. 0. 0. 0. 0. 0. 0. 0.]\n",
      " [0. 0. 0. 0. 0. 0. 0. 0. 0. 0.]\n",
      " [0. 0. 0. 0. 0. 0. 0. 0. 0. 0.]\n",
      " [0. 0. 0. 1. 0. 0. 0. 0. 0. 0.]\n",
      " [0. 0. 1. 0. 1. 0. 0. 0. 0. 0.]\n",
      " [0. 0. 0. 0. 0. 0. 0. 0. 0. 0.]\n",
      " [0. 0. 0. 0. 0. 0. 0. 0. 0. 0.]]\n"
     ]
    }
   ],
   "source": [
    "# 57. 如何在二维数组的随机位置放置p个元素? (★★☆)\n",
    "# np.put: Replaces specified elements of an array with given values.\n",
    "# np.random.choice: Generates a random sample from a given 1-D array\n",
    "n = 10\n",
    "p = 3\n",
    "z = np.zeros((n, n))\n",
    "np.put(z, np.random.choice((n*n), p, replace=False), 1)\n",
    "print(z)"
   ]
  },
  {
   "cell_type": "code",
   "execution_count": 56,
   "metadata": {},
   "outputs": [
    {
     "name": "stdout",
     "output_type": "stream",
     "text": [
      "mean.shape (10, 1)\n",
      "[[-0.06250428  0.0144541   0.37644166 -0.24174444  0.04686177  0.26247256\n",
      "  -0.09260617  0.12225339 -0.14878774 -0.27684085]\n",
      " [-0.40971065 -0.02682273  0.50270259 -0.01284029 -0.3322431  -0.34190803\n",
      "  -0.32071663  0.42120045  0.41664465  0.10369374]\n",
      " [-0.47904796 -0.23043401  0.29094561  0.30774492  0.19570288  0.0463887\n",
      "   0.07569154 -0.26057339  0.48722326 -0.43364155]\n",
      " [ 0.52343902 -0.28648097  0.14287346  0.26601907  0.2164353  -0.2320819\n",
      "  -0.36930679 -0.06680174 -0.3357149   0.14161946]\n",
      " [ 0.40656927  0.18079924  0.30521466 -0.32020919  0.0112518  -0.30614462\n",
      "  -0.33049386 -0.4697406   0.07508805  0.44766526]\n",
      " [ 0.10700097 -0.00295354 -0.40599016 -0.44069932  0.34668614  0.11297875\n",
      "   0.20213113  0.08597422 -0.1551066   0.14997841]\n",
      " [ 0.18978223 -0.52012864 -0.42738869 -0.25946326  0.33554135  0.07528353\n",
      "   0.45464569  0.09584098 -0.25602078  0.31190759]\n",
      " [-0.51685048  0.33455507  0.17278413  0.04114846  0.08704437 -0.34427106\n",
      "   0.30553264 -0.05779084  0.11963079 -0.14178308]\n",
      " [-0.37631926 -0.47366945 -0.09620534 -0.06205326 -0.10801532  0.455228\n",
      "   0.41815143  0.41993136 -0.17190513 -0.00514303]\n",
      " [-0.22886627 -0.25238925  0.40368221 -0.16404468 -0.07235621  0.12855793\n",
      "  -0.41953345  0.39372863  0.32672488 -0.1155038 ]]\n"
     ]
    }
   ],
   "source": [
    "# 58. 减去矩阵每一行的平均值 (★★☆)\n",
    "z = np.random.random((10, 10))\n",
    "mean = np.mean(z, axis=1, keepdims=True)\n",
    "print('mean.shape', mean.shape)\n",
    "y = z - mean\n",
    "print(y)"
   ]
  },
  {
   "cell_type": "code",
   "execution_count": 57,
   "metadata": {},
   "outputs": [
    {
     "name": "stdout",
     "output_type": "stream",
     "text": [
      "z: [[1 0 3]\n",
      " [0 7 9]\n",
      " [8 6 4]]\n",
      "z_sort:  [[1 0 3]\n",
      " [8 6 4]\n",
      " [0 7 9]]\n"
     ]
    }
   ],
   "source": [
    "# 59. 如何对数组通过第n列进行排序? (★★☆)\n",
    "# np.argsort: Returns the indices that would sort an array.\n",
    "z = np.random.randint(0, 10, (3,3))\n",
    "print('z:', z)\n",
    "z_sort = z[z[:,1].argsort()]\n",
    "print('z_sort: ', z_sort)"
   ]
  },
  {
   "cell_type": "code",
   "execution_count": 58,
   "metadata": {},
   "outputs": [
    {
     "name": "stdout",
     "output_type": "stream",
     "text": [
      "[[8 0 6]\n",
      " [0 8 4]\n",
      " [9 0 2]]\n",
      "False\n"
     ]
    }
   ],
   "source": [
    "# 60. 如何判断一个给定的二维数组存在空列? (★★☆)\n",
    "# np.any(): Test whether any array element along a given axis evaluates to True.\n",
    "z = np.random.randint(0, 10, (3,3))\n",
    "print(z)\n",
    "print((~z.any(axis=0)).any())"
   ]
  },
  {
   "cell_type": "code",
   "execution_count": 59,
   "metadata": {},
   "outputs": [
    {
     "name": "stdout",
     "output_type": "stream",
     "text": [
      "0.2755069811630385\n"
     ]
    }
   ],
   "source": [
    "# 61. 从数组中找出与给定值最接近的值 (★★☆)\n",
    "z = np.random.uniform(0, 1, 10)\n",
    "target = 0.3\n",
    "m = z.flat[np.abs(z-target).argmin()]\n",
    "print(m)"
   ]
  },
  {
   "cell_type": "code",
   "execution_count": 60,
   "metadata": {},
   "outputs": [
    {
     "name": "stdout",
     "output_type": "stream",
     "text": [
      "[[0 1 2]\n",
      " [1 2 3]\n",
      " [2 3 4]]\n"
     ]
    }
   ],
   "source": [
    "# 62. 思考形状为(1, 3)和(3, 1)的两个数组形状，如何使用迭代器计算它们的和? (★★☆)\n",
    "# np.nditer: Efficient multi-dimensional iterator object to iterate over arrays. \n",
    "a = np.arange(3).reshape(1, 3)\n",
    "b = np.arange(3).reshape(3, 1)\n",
    "it = np.nditer([a, b, None])\n",
    "for x, y, z in it:\n",
    "    z[...] = x+y\n",
    "print(it.operands[2])"
   ]
  },
  {
   "cell_type": "code",
   "execution_count": 61,
   "metadata": {},
   "outputs": [
    {
     "name": "stdout",
     "output_type": "stream",
     "text": [
      "[0 1 2 3 4 5 6 7 8 9]\n",
      "range_10\n"
     ]
    }
   ],
   "source": [
    "# 63. 创建一个具有name属性的数组类 (★★☆)\n",
    "## https://docs.scipy.org/doc/numpy-1.13.0/user/basics.subclassing.html#implications-for-subclassing\n",
    "# The first is the use of the ndarray.__new__ method for the main work of object initialization, \n",
    "# rather then the more usual __init__ method. \n",
    "# The second is the use of the __array_finalize__ method to allow subclasses to clean up after the creation of \n",
    "# views and new instances from templates.\n",
    "class NameArray(np.ndarray):\n",
    "    def __new__(cls, array, name=\"no name\"):\n",
    "        object = np.asarray(array).view(cls)\n",
    "        object.name = name\n",
    "        return object\n",
    "    def __array_finalize__(self, object):\n",
    "        if object is None:\n",
    "            return\n",
    "        self.info = getattr(object, 'name', 'no name')\n",
    "name_array = NameArray(np.arange(10), 'range_10')\n",
    "print(name_array)\n",
    "print(name_array.name)"
   ]
  },
  {
   "cell_type": "code",
   "execution_count": 62,
   "metadata": {},
   "outputs": [
    {
     "name": "stdout",
     "output_type": "stream",
     "text": [
      "a:  [1 1 1 1 1 1 1 1 1 1]\n",
      "a.shape:  (10,)\n",
      "b.shape:  (20,)\n",
      "a_add:  [1 3 5 1 5 2 3 7 1 2]\n",
      "a_add_2:  [ 1  5  9  1  9  3  5 13  1  3]\n"
     ]
    }
   ],
   "source": [
    "# 64. 给定一个向量，如何让在第二个向量索引的每个元素加1(注意重复索引)? (★★★)\n",
    "# numpy.bincount: Count number of occurrences of each value in array of non-negative ints. \n",
    "a = np.ones(10, dtype=np.int64)\n",
    "print('a: ', a)\n",
    "b = np.random.randint(0, len(a), 20) # (min, max, size)\n",
    "print('a.shape: ', a.shape)\n",
    "print('b.shape: ', b.shape)\n",
    "a += np.bincount(b, minlength=len(a))\n",
    "print('a_add: ', a)\n",
    "# Another method\n",
    "np.add.at(a, b, 1)  # array, index, add element\n",
    "print('a_add_2: ', a)"
   ]
  },
  {
   "cell_type": "code",
   "execution_count": 63,
   "metadata": {},
   "outputs": [
    {
     "name": "stdout",
     "output_type": "stream",
     "text": [
      "X:  [1 2 3 4 5 6]\n",
      "[0. 7. 0. 6. 5. 0. 0. 0. 0. 3.]\n"
     ]
    }
   ],
   "source": [
    "# 65. 如何根据索引列表I将向量X的元素累加到数组F? (★★★)\n",
    "# np.bincount(x, weights, minlength)\n",
    "X = np.arange(1, 7)\n",
    "print('X: ', X)\n",
    "I = [1, 3, 9, 3, 4, 1] # index, len=10\n",
    "F = np.bincount(I, weights=X) # F_i=sum(weigth_i)\n",
    "print(F)"
   ]
  },
  {
   "cell_type": "code",
   "execution_count": 64,
   "metadata": {},
   "outputs": [
    {
     "name": "stdout",
     "output_type": "stream",
     "text": [
      "(16, 16, 3)\n",
      "4\n",
      "[0 1]\n"
     ]
    }
   ],
   "source": [
    "# 66. 思考(dtype = ubyte)的(w, h, 3)图像，计算唯一颜色的值(★★★)\n",
    "# np.ubyte: Unsigned integer type, compatible with C unsigned char.\n",
    "# np.unique: Find the unique elements of an array.\n",
    "w, h = 16, 16\n",
    "img = np.random.randint(0, 2, size=(w,h,3)).astype(np.ubyte)\n",
    "print(img.shape)\n",
    "F = img[...,0]*256*256+img[...,1]*256+img[...,2]\n",
    "n = len(np.unique(F))\n",
    "print(n)\n",
    "print(np.unique(img))"
   ]
  },
  {
   "cell_type": "code",
   "execution_count": 65,
   "metadata": {},
   "outputs": [
    {
     "name": "stdout",
     "output_type": "stream",
     "text": [
      "[[65 45 37 64]\n",
      " [43 42 71 50]\n",
      " [54 69 54 66]]\n",
      "shape:  (3, 4, -1)\n",
      "[[65 45 37 64]\n",
      " [43 42 71 50]\n",
      " [54 69 54 66]]\n"
     ]
    }
   ],
   "source": [
    "# 67. 思考如何求一个四维数组最后两个轴的数据和(★★★)\n",
    "A = np.random.randint(0, 10, (3,4,3,4))\n",
    "# print('A: ', A)\n",
    "sum = A.sum(axis=(-2, -1))\n",
    "print(sum)\n",
    "sum = A.reshape(A.shape[:-2]+(-1,)).sum(axis=-1)\n",
    "shape = A.shape[:-2]+(-1,)\n",
    "print('shape: ', shape)\n",
    "print(sum)"
   ]
  },
  {
   "cell_type": "code",
   "execution_count": 66,
   "metadata": {},
   "outputs": [
    {
     "name": "stdout",
     "output_type": "stream",
     "text": [
      "D_means:  [0.72520153 0.35420947 0.597969   0.57393059 0.65158815 0.5314178\n",
      " 0.59087859 0.42262267 0.36307439 0.53543533]\n",
      "0    0.725202\n",
      "1    0.354209\n",
      "2    0.597969\n",
      "3    0.573931\n",
      "4    0.651588\n",
      "5    0.531418\n",
      "6    0.590879\n",
      "7    0.422623\n",
      "8    0.363074\n",
      "9    0.535435\n",
      "dtype: float64\n"
     ]
    }
   ],
   "source": [
    "# 68. 考虑一维向量D，如何使用相同大小的向量S来计算D的子集的均值，其描述子集索引？(★★★)\n",
    "D = np.random.uniform(0, 1, 100) # (min, max, size)\n",
    "S = np.random.randint(0, 10, 100) # index\n",
    "D_sums = np.bincount(S, weights=D) # D_sums_i=sum(weigth_i)\n",
    "D_counts = np.bincount(S)\n",
    "D_means = D_sums/D_counts\n",
    "print('D_means: ', D_means)\n",
    "# pandas\n",
    "import pandas as pd\n",
    "print(pd.Series(D).groupby(S).mean())"
   ]
  },
  {
   "cell_type": "code",
   "execution_count": 67,
   "metadata": {},
   "outputs": [
    {
     "name": "stdout",
     "output_type": "stream",
     "text": [
      "[0.83976679 1.06810088 1.31245203 1.08829506 0.715313  ]\n",
      "[0.83976679 1.06810088 1.31245203 1.08829506 0.715313  ]\n",
      "[0.83976679 1.06810088 1.31245203 1.08829506 0.715313  ]\n"
     ]
    }
   ],
   "source": [
    "# 69. 如何获得点积的对角线？(★★★)\n",
    "# np.einsum: The call np.einsum('i->', a) is like np.sum(a, axis=-1), and np.einsum('ii->i', a) is like np.diag(a).\n",
    "a = np.random.uniform(0, 1, (5,5))\n",
    "b = np.random.uniform(0, 1, (5,5))\n",
    "# 1. slower version\n",
    "print(np.diag(np.dot(a,b))) # np.dot\n",
    "# 2. fast version\n",
    "print(np.sum(a*b.T, axis=1)) # a_i*b_i\n",
    "# 3. faster version\n",
    "print(np.einsum('ij,ji->i', a, b))"
   ]
  },
  {
   "cell_type": "code",
   "execution_count": 68,
   "metadata": {},
   "outputs": [
    {
     "name": "stdout",
     "output_type": "stream",
     "text": [
      "a:  [1 2 3 4 5]\n",
      "b:  [1. 0. 0. 0. 2. 0. 0. 0. 3. 0. 0. 0. 4. 0. 0. 0. 5.]\n"
     ]
    }
   ],
   "source": [
    "# 70.考虑向量[1,2,3,4,5]，如何建立一个新的向量，在每个值之间交错有3个连续的零？(★★★)\n",
    "# array[::4], every 4 elements\n",
    "a = np.array([1,2,3,4,5])\n",
    "print('a: ', a)\n",
    "nz = 3\n",
    "b = np.zeros(len(a)+(len(a)-1)*nz) # len = len_a + (len_a-1)*3\n",
    "b[::nz+1]=a\n",
    "print('b: ', b)"
   ]
  },
  {
   "cell_type": "code",
   "execution_count": 69,
   "metadata": {},
   "outputs": [
    {
     "name": "stdout",
     "output_type": "stream",
     "text": [
      "b.shape:  (5, 5)\n",
      "b.reshape:  (5, 5, 1)\n",
      "mult.shape:  (5, 5, 3)\n"
     ]
    }
   ],
   "source": [
    "# 71. 考虑一个维度(5,5,3)的数组，如何将其与一个(5,5)的数组相乘？(★★★)\n",
    "# array[:,:,None]: add one dims at last\n",
    "a = np.ones((5,5,3))\n",
    "b = np.ones((5,5))\n",
    "print('b.shape: ', b.shape)\n",
    "print('b.reshape: ', b[:,:,None].shape)\n",
    "mult = a*b[:,:,None]\n",
    "print('mult.shape: ', mult.shape)"
   ]
  },
  {
   "cell_type": "code",
   "execution_count": 70,
   "metadata": {},
   "outputs": [
    {
     "name": "stdout",
     "output_type": "stream",
     "text": [
      "a_org:  [[ 0  1  2  3  4]\n",
      " [ 5  6  7  8  9]\n",
      " [10 11 12 13 14]\n",
      " [15 16 17 18 19]\n",
      " [20 21 22 23 24]]\n",
      "a_exg:  [[ 5  6  7  8  9]\n",
      " [ 0  1  2  3  4]\n",
      " [10 11 12 13 14]\n",
      " [15 16 17 18 19]\n",
      " [20 21 22 23 24]]\n"
     ]
    }
   ],
   "source": [
    "# 72. 如何对一个数组中任意两行做交换? (★★★)\n",
    "# a[[0,1]] = a[[1,0]]\n",
    "a = np.arange(25).reshape(5,5)\n",
    "print('a_org: ', a)\n",
    "a[[0,1]] = a[[1,0]]\n",
    "print('a_exg: ', a)"
   ]
  },
  {
   "cell_type": "code",
   "execution_count": 71,
   "metadata": {},
   "outputs": [
    {
     "name": "stdout",
     "output_type": "stream",
     "text": [
      "[( 4,  8) ( 4, 99) ( 8, 99) ( 9, 30) ( 9, 34) (22, 33) (22, 63) (28, 43)\n",
      " (28, 78) (30, 34) (30, 39) (30, 77) (33, 63) (39, 77) (40, 47) (40, 66)\n",
      " (43, 78) (43, 81) (43, 87) (47, 50) (47, 66) (47, 91) (50, 67) (50, 73)\n",
      " (50, 91) (61, 85) (61, 98) (67, 73) (81, 87) (85, 98)]\n"
     ]
    }
   ],
   "source": [
    "# 73. 思考描述10个三角形（共享顶点）的一组10个三元组，找到组成所有三角形的唯一线段集 (★★★)?\n",
    "# numpy.roll(a, shift, axis=None): Roll array elements along a given axis\n",
    "# numpy.repeat(a, repeats, axis=None): Repeat elements of an array.\n",
    "# chararray.view([dtype][, type]): New view of array with the same data.\n",
    "# np.unique: Find the unique elements of an array.\n",
    "faces = np.random.randint(0, 100, (10, 3))\n",
    "F = np.roll(faces.repeat(2,axis=1), -1, axis=1)\n",
    "F = F.reshape(len(F)*3, 2)\n",
    "F = np.sort(F, axis=1)\n",
    "G = F.view(dtype=[('p0', F.dtype), ('p1', F.dtype)])\n",
    "G = np.unique(G)\n",
    "print(G)"
   ]
  },
  {
   "cell_type": "code",
   "execution_count": 72,
   "metadata": {},
   "outputs": [
    {
     "name": "stdout",
     "output_type": "stream",
     "text": [
      "[0 2 1 1 2 0 1]\n",
      "[1 1 2 3 4 4 6]\n"
     ]
    }
   ],
   "source": [
    "# 74. 给定一个二进制的数组C，如何生成一个数组A满足np.bincount(A)==C? (★★★)\n",
    "# np.repeat\n",
    "C = np.bincount([1,1,2,3,4,4,6])\n",
    "print(C)\n",
    "A = np.repeat(np.arange(len(C)), C)\n",
    "print(A)"
   ]
  },
  {
   "cell_type": "code",
   "execution_count": 73,
   "metadata": {},
   "outputs": [
    {
     "name": "stdout",
     "output_type": "stream",
     "text": [
      "Z:  [ 0  1  2  3  4  5  6  7  8  9 10 11 12 13 14 15 16 17 18 19]\n",
      "pre_sum:  [  0.   1.   3.   6.  10.  15.  21.  28.  36.  45.  55.  66.  78.  91.\n",
      " 105. 120. 136. 153. 171. 190.]\n",
      "ret:  [ 0.  1.  3.  6.  9. 12. 15. 18. 21. 24. 27. 30. 33. 36. 39. 42. 45. 48.\n",
      " 51. 54.]\n",
      "[ 1.  2.  3.  4.  5.  6.  7.  8.  9. 10. 11. 12. 13. 14. 15. 16. 17. 18.]\n"
     ]
    }
   ],
   "source": [
    "# 75. 如何通过滑动窗口计算一个数组的平均数? (★★★)\n",
    "# numpy.cumsum(a, axis=None, dtype=None, out=None): Return the cumulative sum of the elements along a given axis.\n",
    "# Author: Jaime Fernández del Río\n",
    "def moving_average(a, n=3):\n",
    "    ret = np.cumsum(a, dtype=float)\n",
    "    print('pre_sum: ', ret)\n",
    "    ret[n:] = ret[n:] - ret[:-n]\n",
    "    print('ret: ', ret)\n",
    "    return ret[n - 1:] / n\n",
    "Z = np.arange(20)\n",
    "print('Z: ', Z)\n",
    "print(moving_average(Z, n=3))"
   ]
  },
  {
   "cell_type": "code",
   "execution_count": 74,
   "metadata": {},
   "outputs": [
    {
     "name": "stdout",
     "output_type": "stream",
     "text": [
      "[[0 1 2]\n",
      " [1 2 3]\n",
      " [2 3 4]\n",
      " [3 4 5]\n",
      " [4 5 6]\n",
      " [5 6 7]\n",
      " [6 7 8]\n",
      " [7 8 9]]\n"
     ]
    }
   ],
   "source": [
    "# 76. 思考一维数组Z，构建一个二维数组，其第一行是(Z[0],Z[1],Z[2])， 然后每一行移动一位，最后一行为 (Z[-3],Z[-2],Z[-1]) (★★★)\n",
    "# @from numpy.lib import stride_tricks\n",
    "# Author: Joe Kington / Erik Rigtorp\n",
    "#  ndarray.itemsize: Length of one array element in bytes.\n",
    "from numpy.lib import stride_tricks\n",
    "def rolling(a, window):\n",
    "    shape = (a.size - window + 1, window) # (8,3)\n",
    "    strides = (a.itemsize, a.itemsize) # (8, 8)\n",
    "    return stride_tricks.as_strided(a, shape=shape, strides=strides)\n",
    "Z = rolling(np.arange(10), 3)\n",
    "print(Z)"
   ]
  },
  {
   "cell_type": "code",
   "execution_count": 75,
   "metadata": {},
   "outputs": [
    {
     "name": "stdout",
     "output_type": "stream",
     "text": [
      "a_org:  [0 0 0 1 0 1 0 1 1 1 1 0 1 1 1 1 0 1 1 0 1 1 1 0 1 1 1 0 0 0 1 1 0 0 0 1 0\n",
      " 1 1 0 1 0 0 1 0 1 0 1 1 1 1 0 1 1 0 1 1 0 0 1 1 0 1 1 1 0 0 1 0 1 0 0 1 1\n",
      " 1 1 0 1 1 1 1 0 0 0 0 1 1 0 0 1 0 1 1 0 1 1 0 0 1 0]\n",
      "logical_not:  [1 1 1 0 1 0 1 0 0 0 0 1 0 0 0 0 1 0 0 1 0 0 0 1 0 0 0 1 1 1 0 0 1 1 1 0 1\n",
      " 0 0 1 0 1 1 0 1 0 1 0 0 0 0 1 0 0 1 0 0 1 1 0 0 1 0 0 0 1 1 0 1 0 1 1 0 0\n",
      " 0 0 1 0 0 0 0 1 1 1 1 0 0 1 1 0 1 0 0 1 0 0 1 1 0 1]\n",
      "a_org:  [-0.618163    0.27649521 -0.59831049  0.63049953 -0.23705762 -0.85303938\n",
      " -0.16487421 -0.90040871 -0.30389205 -0.08321525  0.90688533  0.2731643\n",
      " -0.13823013 -0.37055103  0.03725536  0.02996032 -0.6756052  -0.23021374\n",
      "  0.04744251  0.16016978  0.015093    0.31680167  0.09551619  0.97701656\n",
      " -0.47601373  0.01435512  0.79395185 -0.88859337  0.99544016 -0.99574871\n",
      "  0.65328939  0.08220649  0.56770897  0.55588616 -0.22807364 -0.22106148\n",
      "  0.55818461 -0.1465382  -0.76169828  0.51866298  0.83758156  0.21836388\n",
      " -0.57389272  0.78411577 -0.64184989  0.58459577 -0.32567656 -0.03820221\n",
      "  0.16668302  0.4225116  -0.82016255 -0.61352107  0.86949247  0.18098907\n",
      " -0.04694478  0.40594503 -0.50120906 -0.70756919  0.39685462  0.82251808\n",
      " -0.77415018 -0.40823782  0.85904864  0.28686854 -0.30785723 -0.04386346\n",
      " -0.40372575 -0.87897348  0.48911045  0.10577157  0.53328879 -0.90818917\n",
      " -0.96510585  0.10483978 -0.05871632  0.59465039 -0.58300305 -0.11591938\n",
      "  0.53344125  0.39213186 -0.54502321 -0.30118048 -0.45278187 -0.86888516\n",
      "  0.42718679 -0.43649318 -0.24390994 -0.88807957 -0.31515974 -0.26468915\n",
      " -0.88517272 -0.51962545  0.15655894  0.5706275   0.17902529  0.13831991\n",
      " -0.86755894  0.6593129  -0.17333082  0.10144338]\n",
      "np.negative:  [ 0.618163   -0.27649521  0.59831049 -0.63049953  0.23705762  0.85303938\n",
      "  0.16487421  0.90040871  0.30389205  0.08321525 -0.90688533 -0.2731643\n",
      "  0.13823013  0.37055103 -0.03725536 -0.02996032  0.6756052   0.23021374\n",
      " -0.04744251 -0.16016978 -0.015093   -0.31680167 -0.09551619 -0.97701656\n",
      "  0.47601373 -0.01435512 -0.79395185  0.88859337 -0.99544016  0.99574871\n",
      " -0.65328939 -0.08220649 -0.56770897 -0.55588616  0.22807364  0.22106148\n",
      " -0.55818461  0.1465382   0.76169828 -0.51866298 -0.83758156 -0.21836388\n",
      "  0.57389272 -0.78411577  0.64184989 -0.58459577  0.32567656  0.03820221\n",
      " -0.16668302 -0.4225116   0.82016255  0.61352107 -0.86949247 -0.18098907\n",
      "  0.04694478 -0.40594503  0.50120906  0.70756919 -0.39685462 -0.82251808\n",
      "  0.77415018  0.40823782 -0.85904864 -0.28686854  0.30785723  0.04386346\n",
      "  0.40372575  0.87897348 -0.48911045 -0.10577157 -0.53328879  0.90818917\n",
      "  0.96510585 -0.10483978  0.05871632 -0.59465039  0.58300305  0.11591938\n",
      " -0.53344125 -0.39213186  0.54502321  0.30118048  0.45278187  0.86888516\n",
      " -0.42718679  0.43649318  0.24390994  0.88807957  0.31515974  0.26468915\n",
      "  0.88517272  0.51962545 -0.15655894 -0.5706275  -0.17902529 -0.13831991\n",
      "  0.86755894 -0.6593129   0.17333082 -0.10144338]\n"
     ]
    }
   ],
   "source": [
    "# 77. 如何对布尔值取反，或改变浮点数的符号(sign)? (★★★)\n",
    "# np.logical_not, np.negative\n",
    "# 1. logical_not\n",
    "a = np.random.randint(0, 2, 100)\n",
    "print('a_org: ', a)\n",
    "np.logical_not(a, out=a)\n",
    "print('logical_not: ', a)\n",
    "# 2. np.negative\n",
    "a = np.random.uniform(-1.0, 1.0, 100)\n",
    "print('a_org: ', a)\n",
    "np.negative(a, out=a)\n",
    "print('np.negative: ', a)"
   ]
  },
  {
   "cell_type": "code",
   "execution_count": 76,
   "metadata": {},
   "outputs": [
    {
     "name": "stdout",
     "output_type": "stream",
     "text": [
      "[4.28412578 7.85406963 6.18024941 3.23973547 6.43400722 7.70496824\n",
      " 2.73181093 6.39086422 0.99072242 7.02487889]\n"
     ]
    }
   ],
   "source": [
    "# @78. 思考两组点集P0和P1去描述一组线(二维)和一个点p,如何计算点p到每一条线 i (P0[i],P1[i])的距离？(★★★)\n",
    "def distance(P0, P1, p):\n",
    "    T = P1 - P0 # vec_p1p0\n",
    "    L = (T**2).sum(axis=1) # |p1p0|\n",
    "    U = -((P0[:,0]-p[...,0])*T[:,0] + (P0[:,1]-p[...,1])*T[:,1]) / L # |pvp0|\n",
    "    U = U.reshape(len(U),1)\n",
    "    D = P0 + U*T - p # vec_pvp0\n",
    "    return np.sqrt((D**2).sum(axis=1))\n",
    "P0 = np.random.uniform(-10,10,(10,2))\n",
    "P1 = np.random.uniform(-10,10,(10,2))\n",
    "p  = np.random.uniform(-10,10,( 1,2))\n",
    "print(distance(P0, P1, p))"
   ]
  },
  {
   "cell_type": "code",
   "execution_count": 77,
   "metadata": {},
   "outputs": [
    {
     "name": "stdout",
     "output_type": "stream",
     "text": [
      "(10, 10)\n",
      "dist:  [[12.01146418 10.73844185 10.06528798  3.8400168   0.19909565  8.74047533\n",
      "   5.56973016  4.39131232  0.24859232  0.14349648]\n",
      " [ 2.75444757  2.06051241  2.730362    8.00498147 12.29130032 11.96173558\n",
      "   4.75320296  1.92276684  9.84375551  9.99062768]\n",
      " [ 8.78252661  8.71927709  7.82924374  2.81108058  3.01207444  6.900741\n",
      "   2.40720921  1.57595596  0.21378115  0.03570914]\n",
      " [ 7.52588019 10.88324007  9.64578004  6.15356751  2.41204881  2.60994899\n",
      "   1.70505202  1.87728798  3.87924634  3.94263539]\n",
      " [ 1.19035567  0.9714586   0.45365903  2.28471994 12.56861724  3.05022973\n",
      "   7.63140831  5.91155793  2.19653961  2.66339437]\n",
      " [ 3.47216053  1.32593489  0.44235465  4.04876019  9.97823728  8.81058796\n",
      "   3.52378915  0.20070536  5.78881662  5.91938019]\n",
      " [ 6.72395865  1.25441201  3.16128136  2.48165365 16.68010391  1.59866791\n",
      "  12.82995435 11.72301731  0.42962763  1.27639163]\n",
      " [ 3.30062172  2.17720856  3.58097851  5.27802237 15.45790512  4.06446617\n",
      "  10.02605725  6.28970168  4.70331237  5.29057287]\n",
      " [ 0.3921013   4.38856931  2.75688755  1.6721674  10.19670794  0.03115187\n",
      "   6.3266406   7.5476479   1.83028377  1.38528563]\n",
      " [ 1.84929285  9.02178995  6.79785524  8.24307226  8.28063827  7.58064073\n",
      "   6.7602193  13.24948261  9.51382903  8.91324344]]\n"
     ]
    }
   ],
   "source": [
    "# 79. 考虑两组点集P0和P1去描述一组线(二维)和一组点集P，如何计算每一个点 j(P[j]) 到每一条线 i (P0[i],P1[i])的距离? (★★★)\n",
    "P0 = np.random.uniform(-10, 10, (10, 2))\n",
    "P1 = np.random.uniform(-10, 10, (10, 2))\n",
    "P = np.random.uniform(-10, 10, (10, 2))\n",
    "d = np.array([distance(P0, P1, p) for p in P])\n",
    "print(d.shape)\n",
    "print('dist: ', d)"
   ]
  },
  {
   "cell_type": "code",
   "execution_count": 78,
   "metadata": {},
   "outputs": [
    {
     "name": "stdout",
     "output_type": "stream",
     "text": [
      "[[3 2 6 8 8 3 0 2 4 4]\n",
      " [0 1 6 1 7 0 8 0 8 4]\n",
      " [2 2 2 3 0 9 6 3 5 9]\n",
      " [0 7 9 7 4 5 5 1 4 2]\n",
      " [9 8 5 9 4 7 9 1 5 3]\n",
      " [5 5 9 7 9 9 6 2 5 3]\n",
      " [5 3 1 5 8 1 7 9 2 6]\n",
      " [3 6 4 3 1 9 0 6 2 3]\n",
      " [5 5 4 5 9 5 7 3 5 5]\n",
      " [6 7 0 7 5 0 2 0 9 6]]\n",
      "[[0 0 0 0 0]\n",
      " [0 3 2 6 8]\n",
      " [0 0 1 6 1]\n",
      " [0 2 2 2 3]\n",
      " [0 0 7 9 7]]\n"
     ]
    },
    {
     "name": "stderr",
     "output_type": "stream",
     "text": [
      "/home/king/.local/lib/python3.5/site-packages/ipykernel_launcher.py:23: FutureWarning: Using a non-tuple sequence for multidimensional indexing is deprecated; use `arr[tuple(seq)]` instead of `arr[seq]`. In the future this will be interpreted as an array index, `arr[np.array(seq)]`, which will result either in an error or a different result.\n"
     ]
    }
   ],
   "source": [
    "# 80. 思考一个任意的数组，编写一个函数，该函数提取一个具有固定形状的子部分，并以一个给定的元素为中心(在该部分填充值) (★★★)\n",
    "# Author: Nicolas Rougier\n",
    "# numpy.maximum(x1, x2, /, out=None): The maximum of x1 and x2, element-wise\n",
    "# \n",
    "Z = np.random.randint(0,10,(10,10))\n",
    "shape = (5,5)\n",
    "fill  = 0\n",
    "position = (1,1)\n",
    "R = np.ones(shape, dtype=Z.dtype)*fill\n",
    "P  = np.array(list(position)).astype(int)\n",
    "Rs = np.array(list(R.shape)).astype(int)\n",
    "Zs = np.array(list(Z.shape)).astype(int)\n",
    "R_start = np.zeros((len(shape),)).astype(int)\n",
    "R_stop  = np.array(list(shape)).astype(int)\n",
    "Z_start = (P-Rs//2)\n",
    "Z_stop  = (P+Rs//2)+Rs%2\n",
    "R_start = (R_start - np.minimum(Z_start,0)).tolist()\n",
    "Z_start = (np.maximum(Z_start,0)).tolist()\n",
    "R_stop = np.maximum(R_start, (R_stop - np.maximum(Z_stop-Zs,0))).tolist()\n",
    "Z_stop = (np.minimum(Z_stop,Zs)).tolist()\n",
    "r = [slice(start,stop) for start,stop in zip(R_start,R_stop)]\n",
    "z = [slice(start,stop) for start,stop in zip(Z_start,Z_stop)]\n",
    "R[r] = Z[z]\n",
    "print(Z)\n",
    "print(R)"
   ]
  },
  {
   "cell_type": "code",
   "execution_count": 82,
   "metadata": {},
   "outputs": [
    {
     "name": "stdout",
     "output_type": "stream",
     "text": [
      "z:  [ 1  2  3  4  5  6  7  8  9 10 11 12 13 14]\n",
      "R:  [[ 1  2  3  4]\n",
      " [ 2  3  4  5]\n",
      " [ 3  4  5  6]\n",
      " [ 4  5  6  7]\n",
      " [ 5  6  7  8]\n",
      " [ 6  7  8  9]\n",
      " [ 7  8  9 10]\n",
      " [ 8  9 10 11]\n",
      " [ 9 10 11 12]\n",
      " [10 11 12 13]\n",
      " [11 12 13 14]]\n"
     ]
    }
   ],
   "source": [
    "# 81. 考虑一个数组Z = [1,2,3,4,5,6,7,8,9,10,11,12,13,14],\n",
    "# 如何生成一个数组R = [[1,2,3,4], [2,3,4,5], [3,4,5,6], ...,[11,12,13,14]]? (★★★)\n",
    "z = np.arange(1,15, dtype=np.int64)\n",
    "print('z: ', z)\n",
    "from numpy.lib import stride_tricks\n",
    "n = 4\n",
    "shape = (len(z)-n+1, n)\n",
    "strides = (z.itemsize, z.itemsize)\n",
    "R = stride_tricks.as_strided(z, shape=shape, strides=strides)\n",
    "print('R: ', R)"
   ]
  },
  {
   "cell_type": "code",
   "execution_count": 93,
   "metadata": {},
   "outputs": [
    {
     "name": "stdout",
     "output_type": "stream",
     "text": [
      "10\n"
     ]
    }
   ],
   "source": [
    "# 82. 计算矩阵的秩 (★★★)\n",
    "# np.linalg.svd:\n",
    "# Author: Stefan van der Walt\n",
    "Z = np.random.uniform(0,1,(10,10)) # (min, max, size)\n",
    "U, S, V = np.linalg.svd(Z) # Singular Value Decomposition\n",
    "rank = np.sum(S > 1e-10) # which > 0\n",
    "print(rank)"
   ]
  },
  {
   "cell_type": "code",
   "execution_count": 110,
   "metadata": {},
   "outputs": [
    {
     "name": "stdout",
     "output_type": "stream",
     "text": [
      "z:  [9 6 7 2 4 9 8 4 5 0]\n",
      "4\n"
     ]
    }
   ],
   "source": [
    "# 83. 如何找出数组中出现频率最高的值?(★★★)\n",
    "z = np.random.randint(0, 10, 10)\n",
    "print('z: ', z)\n",
    "print(np.bincount(z).argmax())"
   ]
  },
  {
   "cell_type": "code",
   "execution_count": 113,
   "metadata": {},
   "outputs": [
    {
     "name": "stdout",
     "output_type": "stream",
     "text": [
      "a:  [[4 3 4 1 2 0 2 2 2 2]\n",
      " [1 3 4 0 1 2 2 3 2 2]\n",
      " [3 0 0 2 0 4 2 2 1 0]\n",
      " [1 1 2 4 3 3 3 3 0 4]\n",
      " [4 4 3 0 4 2 2 4 3 4]\n",
      " [0 3 0 4 0 1 3 1 2 4]\n",
      " [0 1 0 1 4 2 1 1 2 4]\n",
      " [3 1 4 4 2 4 0 3 4 3]\n",
      " [2 3 3 3 0 4 4 4 1 1]\n",
      " [2 0 4 1 0 1 4 0 3 4]]\n",
      "b.shape:  (8, 8, 3, 3)\n"
     ]
    }
   ],
   "source": [
    "# @84. 从一个10x10的矩阵中提取出连续的3x3区块(★★★)\n",
    "a = np.random.randint(0, 5, (10, 10))\n",
    "print('a: ', a)\n",
    "from numpy.lib import stride_tricks\n",
    "from numpy.lib import stride_tricks\n",
    "n = 3\n",
    "shape = (a.shape[0]-n+1, a.shape[1]-n+1, n, n) # conv out shape\n",
    "stride = a.strides + a.strides # strides\n",
    "b = stride_tricks.as_strided(a, shape, stride)\n",
    "print('b.shape: ', b.shape)"
   ]
  },
  {
   "cell_type": "code",
   "execution_count": 114,
   "metadata": {},
   "outputs": [
    {
     "name": "stdout",
     "output_type": "stream",
     "text": [
      "[[ 5 10  9  8 10]\n",
      " [10  9  2  5  4]\n",
      " [ 9  2  9 42 16]\n",
      " [ 8  5 42  0  4]\n",
      " [10  4 16  4  9]]\n"
     ]
    }
   ],
   "source": [
    "# 85.创建一个满足 Z[i,j] == Z[j,i]的二维数组子类 (★★★)\n",
    "# Author: Eric O. Lebigot\n",
    "# Note: only works for 2d array and value setting using indices\n",
    "class Symetric(np.ndarray):\n",
    "    def __setitem__(self, index, value):\n",
    "        i,j = index\n",
    "        super(Symetric, self).__setitem__((i,j), value)\n",
    "        super(Symetric, self).__setitem__((j,i), value)\n",
    "def symetric(Z):\n",
    "    return np.asarray(Z + Z.T - np.diag(Z.diagonal())).view(Symetric)\n",
    "S = symetric(np.random.randint(0,10,(5,5)))\n",
    "S[2,3] = 42\n",
    "print(S)"
   ]
  },
  {
   "cell_type": "code",
   "execution_count": 115,
   "metadata": {},
   "outputs": [
    {
     "name": "stdout",
     "output_type": "stream",
     "text": [
      "S.shape:  (20, 1)\n",
      "[[200.]\n",
      " [200.]\n",
      " [200.]\n",
      " [200.]\n",
      " [200.]\n",
      " [200.]\n",
      " [200.]\n",
      " [200.]\n",
      " [200.]\n",
      " [200.]\n",
      " [200.]\n",
      " [200.]\n",
      " [200.]\n",
      " [200.]\n",
      " [200.]\n",
      " [200.]\n",
      " [200.]\n",
      " [200.]\n",
      " [200.]\n",
      " [200.]]\n"
     ]
    }
   ],
   "source": [
    "# 86. 考虑p个 nxn 矩阵和一组形状为(n,1)的向量，如何直接计算p个矩阵的乘积(n,1)? (★★★)\n",
    "# Author: Stefan van der Walt\n",
    "p, n = 10, 20\n",
    "M = np.ones((p,n,n))\n",
    "V = np.ones((p,n,1))\n",
    "S = np.tensordot(M, V, axes=[[0, 2], [0, 1]]) # pairs: (0, 0), (2, 1)\n",
    "print('S.shape: ', S.shape)\n",
    "print(S)\n",
    "# It works, because:\n",
    "# M is (p,n,n)\n",
    "# V is (p,n,1)\n",
    "# Thus, summing over the paired axes 0 and 0 (of M and V independently),\n",
    "# and 2 and 1, to remain with a (n,1) vector."
   ]
  },
  {
   "cell_type": "code",
   "execution_count": null,
   "metadata": {},
   "outputs": [],
   "source": [
    "# 87. 对于一个16x16的数组，如何得到一个区域的和(区域大小为4x4)? (★★★)\n",
    "# np.add.reduceat: Performs a (local) reduce with specified slices over a single axis.\n",
    "# [](https://numpy.org/doc/stable/reference/generated/numpy.ufunc.reduceat.html)\n",
    "# Author: Robert Kern\n",
    "Z = np.ones((16,16))\n",
    "k = 4\n",
    "S = np.add.reduceat(np.add.reduceat(Z, np.arange(0, Z.shape[0], k), axis=0), np.arange(0, Z.shape[1], k), axis=1)\n",
    "print(S)\n"
   ]
  },
  {
   "cell_type": "code",
   "execution_count": 116,
   "metadata": {},
   "outputs": [
    {
     "name": "stdout",
     "output_type": "stream",
     "text": [
      "[[0 0 0 0 0 0 0 0 0 0 0 0 0 0 0 0 0 0 0 0 0 0 0 0 0 0 0 0 0 0 0 0 0 0 0 0\n",
      "  0 0 0 0 0 0 0 0 0 0 0 0 0 0]\n",
      " [0 0 0 0 0 0 0 0 0 0 0 0 0 0 0 0 0 0 0 0 0 0 0 0 0 0 0 0 0 0 0 0 0 0 0 0\n",
      "  0 0 0 0 0 0 0 0 0 0 0 0 0 0]\n",
      " [0 0 0 0 0 0 0 0 0 0 0 0 0 0 0 0 0 0 0 0 0 0 0 0 0 0 0 0 0 0 0 0 0 0 0 0\n",
      "  0 0 0 0 0 0 0 0 0 0 0 0 0 0]\n",
      " [0 0 0 0 0 0 0 0 0 0 0 0 0 0 0 0 0 0 0 0 0 0 0 0 0 0 0 0 0 0 0 0 0 0 0 0\n",
      "  0 0 0 0 0 0 0 0 0 0 0 0 0 0]\n",
      " [0 0 0 0 0 0 0 0 0 0 0 0 0 0 0 0 0 0 0 0 0 0 0 0 0 0 0 0 0 0 0 0 0 0 0 0\n",
      "  0 0 0 0 0 0 0 0 0 0 0 0 0 0]\n",
      " [0 0 0 0 0 0 0 0 0 0 0 0 0 0 0 0 0 0 0 0 0 0 0 0 0 0 0 0 0 0 1 1 0 0 0 0\n",
      "  0 0 0 0 0 0 0 0 1 1 0 0 0 0]\n",
      " [0 0 0 0 0 0 0 0 0 0 0 0 0 0 0 0 0 0 0 0 0 0 0 0 0 0 0 0 0 0 1 1 0 0 0 0\n",
      "  0 0 0 0 0 0 0 0 1 0 1 0 0 0]\n",
      " [0 0 0 0 0 0 0 0 0 0 0 0 0 0 0 0 0 0 0 0 0 0 0 0 0 0 0 0 0 0 0 0 0 0 0 0\n",
      "  0 0 0 0 0 0 0 0 0 1 0 0 0 0]\n",
      " [0 0 0 0 0 0 0 0 0 0 0 0 0 0 0 0 0 0 0 0 0 0 0 0 0 0 0 0 0 0 0 0 0 0 0 0\n",
      "  0 0 0 0 0 0 0 0 0 0 0 0 0 0]\n",
      " [0 0 0 0 0 0 0 0 0 0 0 0 0 0 0 0 0 0 0 0 0 0 0 0 0 0 0 0 0 0 0 0 0 0 0 0\n",
      "  0 0 0 0 0 0 0 0 0 0 0 0 0 0]\n",
      " [0 0 0 0 0 0 0 0 0 0 0 0 0 0 0 0 0 0 1 1 0 0 0 0 0 0 0 0 0 0 0 0 0 0 0 1\n",
      "  0 0 0 0 0 0 0 0 0 0 0 0 0 0]\n",
      " [0 0 0 1 1 1 0 0 0 0 0 0 0 0 0 0 0 1 0 0 1 0 0 0 0 0 0 0 0 0 0 0 0 0 1 0\n",
      "  1 0 0 0 0 0 0 0 0 0 0 0 0 0]\n",
      " [0 0 0 1 0 1 0 0 0 0 0 0 0 0 0 0 0 0 1 1 0 0 0 0 0 0 0 0 0 0 0 0 0 1 0 0\n",
      "  1 0 0 0 0 0 0 0 0 0 0 0 0 0]\n",
      " [0 0 0 1 0 1 0 0 0 0 0 0 0 0 0 0 0 0 0 0 0 0 0 0 0 0 0 0 0 0 0 0 0 0 1 1\n",
      "  0 0 0 0 0 0 0 0 0 0 0 0 0 0]\n",
      " [0 0 0 1 1 0 0 0 0 0 0 0 0 0 0 0 0 0 0 0 0 0 0 0 0 0 0 0 0 0 0 0 0 0 0 0\n",
      "  0 0 0 0 0 0 0 0 0 0 0 0 0 0]\n",
      " [0 0 0 0 0 0 1 0 0 0 0 0 1 0 1 0 0 0 0 0 0 0 0 0 0 0 0 0 0 0 0 0 0 0 0 0\n",
      "  0 0 0 0 0 0 0 0 0 0 0 0 0 0]\n",
      " [0 0 1 1 0 0 0 0 0 0 0 0 1 0 1 0 0 0 0 0 0 0 0 0 0 0 0 0 0 0 0 0 0 0 0 0\n",
      "  0 0 0 0 0 0 0 0 0 0 0 0 0 0]\n",
      " [0 1 0 1 0 0 0 0 0 0 0 0 0 0 1 0 0 0 0 0 0 0 0 0 0 0 0 0 0 0 0 0 0 0 0 0\n",
      "  0 0 0 0 0 0 0 0 0 0 0 0 0 0]\n",
      " [0 0 0 0 1 1 0 0 0 0 0 0 0 0 0 0 0 0 0 0 0 0 0 0 0 0 0 0 0 0 0 0 0 0 0 0\n",
      "  0 0 0 0 0 0 0 0 0 1 1 0 0 0]\n",
      " [0 1 1 1 1 0 1 0 0 0 0 0 0 0 0 0 0 0 0 0 0 0 0 0 0 0 0 0 0 0 0 0 0 0 0 0\n",
      "  0 0 0 0 0 0 0 0 0 1 1 0 0 0]\n",
      " [0 0 0 0 0 0 0 0 0 0 0 0 0 0 0 0 0 0 0 0 0 0 0 0 0 0 0 0 0 0 0 0 0 0 0 0\n",
      "  0 0 0 0 0 0 0 0 0 0 0 0 0 0]\n",
      " [0 0 0 0 0 0 0 0 0 0 0 1 0 0 0 0 0 0 0 0 0 0 0 0 0 0 0 0 0 0 0 0 0 0 0 0\n",
      "  0 0 0 0 0 0 0 0 0 0 0 0 0 0]\n",
      " [0 0 0 0 1 0 0 0 0 0 0 1 1 0 0 0 0 0 0 0 0 1 0 0 0 0 0 0 0 0 0 0 0 0 0 0\n",
      "  0 0 0 0 0 0 0 0 0 0 0 0 0 0]\n",
      " [0 0 0 0 1 1 0 0 0 0 0 1 1 0 0 0 0 0 0 0 0 1 0 0 0 0 0 0 0 0 0 0 0 0 0 0\n",
      "  0 0 0 0 0 0 0 0 0 0 0 0 0 0]\n",
      " [0 0 0 0 0 1 0 1 0 0 0 0 0 0 0 0 0 0 0 0 0 1 0 0 0 0 0 0 0 0 0 0 0 0 0 0\n",
      "  0 0 0 0 0 0 0 0 0 0 0 0 0 0]\n",
      " [0 0 0 0 0 0 0 0 0 0 0 0 0 0 0 0 0 0 0 0 0 0 0 0 0 0 0 0 0 0 0 0 0 0 0 0\n",
      "  0 0 0 0 0 0 0 0 0 0 0 0 0 0]\n",
      " [0 1 1 1 0 1 0 0 0 0 0 0 0 0 0 0 0 0 0 0 0 0 0 0 0 0 0 0 0 0 0 0 0 0 0 0\n",
      "  0 0 0 0 0 0 0 0 0 0 0 0 0 0]\n",
      " [0 1 1 1 0 1 1 0 0 0 0 0 0 0 0 0 0 0 0 0 0 0 0 0 0 0 0 0 0 0 0 0 0 0 0 0\n",
      "  0 0 0 0 0 0 0 0 0 0 0 0 0 0]\n",
      " [0 0 0 0 0 0 1 1 0 0 0 0 0 0 0 0 0 0 0 0 0 0 0 0 1 1 0 0 0 0 0 0 0 0 0 0\n",
      "  0 0 0 0 0 0 0 0 0 0 0 0 0 0]\n",
      " [0 0 0 0 1 0 1 1 1 0 0 0 0 1 1 0 0 0 0 0 0 0 0 0 1 1 0 0 0 0 0 0 0 0 0 0\n",
      "  0 0 0 0 0 0 0 0 0 0 0 0 0 0]\n",
      " [0 0 0 1 0 1 1 0 1 0 0 0 1 1 0 1 0 0 0 1 0 0 0 0 0 0 0 0 0 0 0 0 1 1 0 0\n",
      "  0 0 0 0 0 0 0 0 0 0 0 0 0 0]\n",
      " [0 0 0 0 0 0 1 0 0 1 1 0 0 1 0 0 0 0 0 1 0 0 0 0 0 0 0 0 0 0 1 1 1 0 1 0\n",
      "  0 0 0 0 0 0 0 0 0 0 0 0 0 0]\n",
      " [0 0 0 1 0 0 1 0 1 0 0 1 0 1 0 0 0 0 0 0 1 0 0 1 1 0 0 0 1 0 0 0 0 0 1 1\n",
      "  0 0 0 0 0 0 0 0 0 0 0 0 0 0]\n",
      " [0 0 0 0 0 0 0 1 1 0 1 1 0 1 0 0 0 1 0 1 0 0 0 1 0 1 1 0 0 0 0 0 1 1 1 1\n",
      "  0 0 0 0 0 0 0 0 0 0 0 0 0 0]\n",
      " [0 0 0 0 1 0 1 0 1 0 0 0 1 1 0 1 0 1 0 1 0 0 0 1 0 0 0 0 0 0 0 0 0 1 1 0\n",
      "  0 0 0 0 0 0 0 0 0 0 0 0 0 0]\n",
      " [0 0 0 0 0 1 1 0 1 1 0 0 1 0 0 1 0 0 0 0 0 0 0 0 0 0 1 1 1 0 0 0 0 1 0 0\n",
      "  0 0 0 0 0 0 1 0 0 0 0 0 0 0]\n",
      " [0 0 0 0 0 0 0 0 0 1 0 0 0 1 1 1 0 0 0 0 0 0 0 0 0 0 0 0 0 1 0 0 0 0 0 0\n",
      "  0 0 0 0 0 0 1 0 0 0 0 0 0 0]\n",
      " [0 0 0 0 0 0 0 0 0 0 0 0 0 0 1 0 0 0 0 0 0 0 0 0 0 0 0 0 0 0 0 0 1 0 0 0\n",
      "  0 0 0 0 0 0 1 0 0 0 0 0 0 0]\n",
      " [0 0 0 0 0 0 0 0 0 0 0 0 0 0 0 0 0 0 0 0 0 0 0 0 0 0 0 0 0 1 0 1 0 0 0 0\n",
      "  0 0 0 0 0 0 0 0 0 0 0 0 0 0]\n",
      " [0 0 0 0 0 0 0 0 0 0 0 0 0 0 0 0 0 0 0 0 0 0 0 0 0 0 0 0 1 1 0 0 0 0 0 0\n",
      "  0 0 1 1 1 0 0 0 1 1 1 0 0 0]\n",
      " [0 0 0 0 0 0 0 0 0 0 0 0 0 0 0 0 0 0 0 0 0 0 0 0 0 0 1 1 1 0 0 0 0 0 0 0\n",
      "  0 0 0 0 0 0 0 0 0 0 0 0 0 0]\n",
      " [0 0 0 0 0 0 0 0 0 0 0 0 0 0 0 0 0 0 0 0 0 0 0 0 0 0 0 0 0 0 0 0 0 0 0 0\n",
      "  0 0 0 0 0 0 1 0 0 0 0 0 0 0]\n",
      " [0 0 0 0 0 0 0 0 0 0 0 0 0 0 0 0 0 0 0 0 0 0 1 1 0 0 0 0 0 0 0 0 0 0 0 0\n",
      "  0 0 0 0 0 0 1 0 0 0 0 0 0 0]\n",
      " [0 0 0 0 0 0 0 0 0 0 0 0 0 0 0 0 0 0 1 0 0 0 1 1 0 0 0 0 0 0 0 0 0 0 0 0\n",
      "  0 0 0 0 0 0 1 0 0 0 0 0 0 0]\n",
      " [0 0 1 1 0 0 0 0 0 0 0 0 0 0 0 0 0 1 0 1 0 0 0 0 0 0 0 0 0 0 0 0 0 0 0 0\n",
      "  0 0 0 0 0 0 0 0 0 0 0 0 0 0]\n",
      " [0 0 1 1 0 0 0 0 0 0 0 0 0 0 0 0 0 1 0 1 0 0 0 0 0 0 0 0 0 0 0 0 0 0 0 0\n",
      "  0 0 0 0 0 0 0 0 0 0 0 0 0 0]\n",
      " [0 0 0 0 0 0 0 0 0 0 0 0 0 0 0 0 0 0 1 0 0 0 0 0 0 0 0 0 0 0 0 0 0 0 0 0\n",
      "  0 0 0 0 0 0 0 0 0 0 0 0 0 0]\n",
      " [0 0 0 0 0 0 0 0 0 0 0 0 0 0 0 0 0 0 0 0 0 0 0 0 0 0 0 0 0 0 0 0 0 0 0 0\n",
      "  0 0 0 0 0 0 0 0 0 0 0 1 1 0]\n",
      " [0 0 0 0 0 0 0 0 0 0 0 0 0 0 0 0 0 0 0 0 0 0 0 0 0 0 0 0 0 0 0 0 0 0 0 0\n",
      "  0 0 0 0 0 0 0 0 0 0 0 1 1 0]\n",
      " [0 0 0 0 0 0 0 0 0 0 0 0 0 0 0 0 0 0 0 0 0 0 0 0 0 0 0 0 0 0 0 0 0 0 0 0\n",
      "  0 0 0 0 0 0 0 0 0 0 0 0 0 0]]\n"
     ]
    }
   ],
   "source": [
    "# 88. 如何利用numpy数组实现Game of Life? (★★★)\n",
    "# Author: Nicolas Rougier\n",
    "def iterate(Z):\n",
    "    # Count neighbours\n",
    "    N = (Z[0:-2,0:-2] + Z[0:-2,1:-1] + Z[0:-2,2:] +\n",
    "         Z[1:-1,0:-2]                + Z[1:-1,2:] +\n",
    "         Z[2:  ,0:-2] + Z[2:  ,1:-1] + Z[2:  ,2:])\n",
    "    # Apply rules\n",
    "    birth = (N==3) & (Z[1:-1,1:-1]==0)\n",
    "    survive = ((N==2) | (N==3)) & (Z[1:-1,1:-1]==1)\n",
    "    Z[...] = 0\n",
    "    Z[1:-1,1:-1][birth | survive] = 1\n",
    "    return Z\n",
    "Z = np.random.randint(0,2,(50,50))\n",
    "for i in range(100): Z = iterate(Z)\n",
    "print(Z)"
   ]
  },
  {
   "cell_type": "code",
   "execution_count": 188,
   "metadata": {},
   "outputs": [
    {
     "name": "stdout",
     "output_type": "stream",
     "text": [
      "[9995 9996 9997 9998 9999]\n"
     ]
    }
   ],
   "source": [
    "# 89. 如何找到一个数组的第n个最大值? (★★★)\n",
    "# numpy.argsort(a, axis=- 1, kind=None, order=None): Returns the indices that would sort an array.\n",
    "# \n",
    "Z = np.arange(10000)\n",
    "np.random.shuffle(Z)\n",
    "n = 5\n",
    "# slow\n",
    "print(Z[np.argsort(Z)[-n:]])\n",
    "# fast\n",
    "# print(Z[np.argpartition(-Z, n)[:n]])"
   ]
  },
  {
   "cell_type": "code",
   "execution_count": 198,
   "metadata": {},
   "outputs": [
    {
     "name": "stdout",
     "output_type": "stream",
     "text": [
      "array.shape:  3\n",
      "shape:  <generator object cartesian.<locals>.<genexpr> at 0x7fabfd0415c8>\n",
      "ix.shape:  (3, 3, 2, 2)\n",
      "[[1 4 6]\n",
      " [1 4 7]\n",
      " [1 5 6]\n",
      " [1 5 7]\n",
      " [2 4 6]\n",
      " [2 4 7]\n",
      " [2 5 6]\n",
      " [2 5 7]\n",
      " [3 4 6]\n",
      " [3 4 7]\n",
      " [3 5 6]\n",
      " [3 5 7]]\n"
     ]
    }
   ],
   "source": [
    "# 90. 给定任意个数向量，创建笛卡尔积(每一个元素的每一种组合) (★★★)\n",
    "# [np.indices](https://numpy.org/doc/stable/reference/generated/numpy.indices.html?highlight=indices#numpy.indices)\n",
    "# Author: Stefan Van der Walt\n",
    "def cartesian(arrays):\n",
    "    arrays = [np.asarray(a) for a in arrays]\n",
    "    print('array.shape: ', len(arrays))\n",
    "    shape = (len(x) for x in arrays)\n",
    "    print('shape: ', shape)\n",
    "    ix = np.indices(shape, dtype=int)\n",
    "    print('ix.shape: ', ix.shape)\n",
    "    ix = ix.reshape(len(arrays), -1).T\n",
    "    for n, arr in enumerate(arrays):\n",
    "        ix[:, n] = arrays[n][ix[:, n]]\n",
    "    return ix\n",
    "print (cartesian(([1, 2, 3], [4, 5], [6, 7])))"
   ]
  },
  {
   "cell_type": "code",
   "execution_count": null,
   "metadata": {},
   "outputs": [],
   "source": [
    "# 91. 如何从一个常规数组中创建记录数组(record array)? (★★★) "
   ]
  },
  {
   "cell_type": "code",
   "execution_count": null,
   "metadata": {},
   "outputs": [],
   "source": []
  }
 ],
 "metadata": {
  "kernelspec": {
   "display_name": "Python 3",
   "language": "python",
   "name": "python3"
  },
  "language_info": {
   "codemirror_mode": {
    "name": "ipython",
    "version": 3
   },
   "file_extension": ".py",
   "mimetype": "text/x-python",
   "name": "python",
   "nbconvert_exporter": "python",
   "pygments_lexer": "ipython3",
   "version": "3.5.2"
  }
 },
 "nbformat": 4,
 "nbformat_minor": 2
}
